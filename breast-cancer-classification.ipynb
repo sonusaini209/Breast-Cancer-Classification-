{
 "cells": [
  {
   "cell_type": "code",
   "execution_count": 1,
   "id": "2f83c1e9",
   "metadata": {
    "_cell_guid": "b1076dfc-b9ad-4769-8c92-a6c4dae69d19",
    "_uuid": "8f2839f25d086af736a60e9eeb907d3b93b6e0e5",
    "execution": {
     "iopub.execute_input": "2023-10-22T06:44:54.910626Z",
     "iopub.status.busy": "2023-10-22T06:44:54.909246Z",
     "iopub.status.idle": "2023-10-22T06:44:55.400928Z",
     "shell.execute_reply": "2023-10-22T06:44:55.399437Z"
    },
    "papermill": {
     "duration": 0.510775,
     "end_time": "2023-10-22T06:44:55.405501",
     "exception": false,
     "start_time": "2023-10-22T06:44:54.894726",
     "status": "completed"
    },
    "tags": []
   },
   "outputs": [
    {
     "name": "stdout",
     "output_type": "stream",
     "text": [
      "/kaggle/input/breast-cancer/breast-cancer-wisconsin-data_data.csv\n"
     ]
    }
   ],
   "source": [
    "# This Python 3 environment comes with many helpful analytics libraries installed\n",
    "# It is defined by the kaggle/python Docker image: https://github.com/kaggle/docker-python\n",
    "# For example, here's several helpful packages to load\n",
    "\n",
    "import numpy as np # linear algebra\n",
    "import pandas as pd # data processing, CSV file I/O (e.g. pd.read_csv)\n",
    "\n",
    "# Input data files are available in the read-only \"../input/\" directory\n",
    "# For example, running this (by clicking run or pressing Shift+Enter) will list all files under the input directory\n",
    "\n",
    "import os\n",
    "for dirname, _, filenames in os.walk('/kaggle/input'):\n",
    "    for filename in filenames:\n",
    "        print(os.path.join(dirname, filename))\n",
    "\n",
    "# You can write up to 20GB to the current directory (/kaggle/working/) that gets preserved as output when you create a version using \"Save & Run All\" \n",
    "# You can also write temporary files to /kaggle/temp/, but they won't be saved outside of the current session"
   ]
  },
  {
   "cell_type": "markdown",
   "id": "3fe6af0d",
   "metadata": {
    "papermill": {
     "duration": 0.011504,
     "end_time": "2023-10-22T06:44:55.429170",
     "exception": false,
     "start_time": "2023-10-22T06:44:55.417666",
     "status": "completed"
    },
    "tags": []
   },
   "source": [
    "# 1. Import necessary libraries"
   ]
  },
  {
   "cell_type": "code",
   "execution_count": 2,
   "id": "cfc2f42f",
   "metadata": {
    "execution": {
     "iopub.execute_input": "2023-10-22T06:44:55.457764Z",
     "iopub.status.busy": "2023-10-22T06:44:55.457087Z",
     "iopub.status.idle": "2023-10-22T06:44:57.312944Z",
     "shell.execute_reply": "2023-10-22T06:44:57.311955Z"
    },
    "papermill": {
     "duration": 1.873309,
     "end_time": "2023-10-22T06:44:57.315930",
     "exception": false,
     "start_time": "2023-10-22T06:44:55.442621",
     "status": "completed"
    },
    "tags": []
   },
   "outputs": [],
   "source": [
    "import numpy as np \n",
    "import pandas as pd\n",
    "from matplotlib import pyplot as plt\n",
    "import seaborn as sns"
   ]
  },
  {
   "cell_type": "markdown",
   "id": "8ed77699",
   "metadata": {
    "papermill": {
     "duration": 0.011858,
     "end_time": "2023-10-22T06:44:57.339310",
     "exception": false,
     "start_time": "2023-10-22T06:44:57.327452",
     "status": "completed"
    },
    "tags": []
   },
   "source": [
    "# 2. Load the dataset"
   ]
  },
  {
   "cell_type": "code",
   "execution_count": 3,
   "id": "c39de98c",
   "metadata": {
    "execution": {
     "iopub.execute_input": "2023-10-22T06:44:57.366915Z",
     "iopub.status.busy": "2023-10-22T06:44:57.365282Z",
     "iopub.status.idle": "2023-10-22T06:44:57.395738Z",
     "shell.execute_reply": "2023-10-22T06:44:57.394283Z"
    },
    "papermill": {
     "duration": 0.048029,
     "end_time": "2023-10-22T06:44:57.399434",
     "exception": false,
     "start_time": "2023-10-22T06:44:57.351405",
     "status": "completed"
    },
    "tags": []
   },
   "outputs": [],
   "source": [
    "df=pd.read_csv(\"/kaggle/input/breast-cancer/breast-cancer-wisconsin-data_data.csv\")"
   ]
  },
  {
   "cell_type": "markdown",
   "id": "a6a8a29f",
   "metadata": {
    "papermill": {
     "duration": 0.011403,
     "end_time": "2023-10-22T06:44:57.422809",
     "exception": false,
     "start_time": "2023-10-22T06:44:57.411406",
     "status": "completed"
    },
    "tags": []
   },
   "source": [
    "# 3. Basic Data Exploration"
   ]
  },
  {
   "cell_type": "code",
   "execution_count": 4,
   "id": "de08b979",
   "metadata": {
    "execution": {
     "iopub.execute_input": "2023-10-22T06:44:57.449391Z",
     "iopub.status.busy": "2023-10-22T06:44:57.448893Z",
     "iopub.status.idle": "2023-10-22T06:44:57.500511Z",
     "shell.execute_reply": "2023-10-22T06:44:57.498736Z"
    },
    "papermill": {
     "duration": 0.068079,
     "end_time": "2023-10-22T06:44:57.503197",
     "exception": false,
     "start_time": "2023-10-22T06:44:57.435118",
     "status": "completed"
    },
    "tags": []
   },
   "outputs": [
    {
     "data": {
      "text/html": [
       "<div>\n",
       "<style scoped>\n",
       "    .dataframe tbody tr th:only-of-type {\n",
       "        vertical-align: middle;\n",
       "    }\n",
       "\n",
       "    .dataframe tbody tr th {\n",
       "        vertical-align: top;\n",
       "    }\n",
       "\n",
       "    .dataframe thead th {\n",
       "        text-align: right;\n",
       "    }\n",
       "</style>\n",
       "<table border=\"1\" class=\"dataframe\">\n",
       "  <thead>\n",
       "    <tr style=\"text-align: right;\">\n",
       "      <th></th>\n",
       "      <th>id</th>\n",
       "      <th>diagnosis</th>\n",
       "      <th>radius_mean</th>\n",
       "      <th>texture_mean</th>\n",
       "      <th>perimeter_mean</th>\n",
       "      <th>area_mean</th>\n",
       "      <th>smoothness_mean</th>\n",
       "      <th>compactness_mean</th>\n",
       "      <th>concavity_mean</th>\n",
       "      <th>concave points_mean</th>\n",
       "      <th>...</th>\n",
       "      <th>texture_worst</th>\n",
       "      <th>perimeter_worst</th>\n",
       "      <th>area_worst</th>\n",
       "      <th>smoothness_worst</th>\n",
       "      <th>compactness_worst</th>\n",
       "      <th>concavity_worst</th>\n",
       "      <th>concave points_worst</th>\n",
       "      <th>symmetry_worst</th>\n",
       "      <th>fractal_dimension_worst</th>\n",
       "      <th>Unnamed: 32</th>\n",
       "    </tr>\n",
       "  </thead>\n",
       "  <tbody>\n",
       "    <tr>\n",
       "      <th>0</th>\n",
       "      <td>842302</td>\n",
       "      <td>M</td>\n",
       "      <td>17.99</td>\n",
       "      <td>10.38</td>\n",
       "      <td>122.80</td>\n",
       "      <td>1001.0</td>\n",
       "      <td>0.11840</td>\n",
       "      <td>0.27760</td>\n",
       "      <td>0.3001</td>\n",
       "      <td>0.14710</td>\n",
       "      <td>...</td>\n",
       "      <td>17.33</td>\n",
       "      <td>184.60</td>\n",
       "      <td>2019.0</td>\n",
       "      <td>0.1622</td>\n",
       "      <td>0.6656</td>\n",
       "      <td>0.7119</td>\n",
       "      <td>0.2654</td>\n",
       "      <td>0.4601</td>\n",
       "      <td>0.11890</td>\n",
       "      <td>NaN</td>\n",
       "    </tr>\n",
       "    <tr>\n",
       "      <th>1</th>\n",
       "      <td>842517</td>\n",
       "      <td>M</td>\n",
       "      <td>20.57</td>\n",
       "      <td>17.77</td>\n",
       "      <td>132.90</td>\n",
       "      <td>1326.0</td>\n",
       "      <td>0.08474</td>\n",
       "      <td>0.07864</td>\n",
       "      <td>0.0869</td>\n",
       "      <td>0.07017</td>\n",
       "      <td>...</td>\n",
       "      <td>23.41</td>\n",
       "      <td>158.80</td>\n",
       "      <td>1956.0</td>\n",
       "      <td>0.1238</td>\n",
       "      <td>0.1866</td>\n",
       "      <td>0.2416</td>\n",
       "      <td>0.1860</td>\n",
       "      <td>0.2750</td>\n",
       "      <td>0.08902</td>\n",
       "      <td>NaN</td>\n",
       "    </tr>\n",
       "    <tr>\n",
       "      <th>2</th>\n",
       "      <td>84300903</td>\n",
       "      <td>M</td>\n",
       "      <td>19.69</td>\n",
       "      <td>21.25</td>\n",
       "      <td>130.00</td>\n",
       "      <td>1203.0</td>\n",
       "      <td>0.10960</td>\n",
       "      <td>0.15990</td>\n",
       "      <td>0.1974</td>\n",
       "      <td>0.12790</td>\n",
       "      <td>...</td>\n",
       "      <td>25.53</td>\n",
       "      <td>152.50</td>\n",
       "      <td>1709.0</td>\n",
       "      <td>0.1444</td>\n",
       "      <td>0.4245</td>\n",
       "      <td>0.4504</td>\n",
       "      <td>0.2430</td>\n",
       "      <td>0.3613</td>\n",
       "      <td>0.08758</td>\n",
       "      <td>NaN</td>\n",
       "    </tr>\n",
       "    <tr>\n",
       "      <th>3</th>\n",
       "      <td>84348301</td>\n",
       "      <td>M</td>\n",
       "      <td>11.42</td>\n",
       "      <td>20.38</td>\n",
       "      <td>77.58</td>\n",
       "      <td>386.1</td>\n",
       "      <td>0.14250</td>\n",
       "      <td>0.28390</td>\n",
       "      <td>0.2414</td>\n",
       "      <td>0.10520</td>\n",
       "      <td>...</td>\n",
       "      <td>26.50</td>\n",
       "      <td>98.87</td>\n",
       "      <td>567.7</td>\n",
       "      <td>0.2098</td>\n",
       "      <td>0.8663</td>\n",
       "      <td>0.6869</td>\n",
       "      <td>0.2575</td>\n",
       "      <td>0.6638</td>\n",
       "      <td>0.17300</td>\n",
       "      <td>NaN</td>\n",
       "    </tr>\n",
       "    <tr>\n",
       "      <th>4</th>\n",
       "      <td>84358402</td>\n",
       "      <td>M</td>\n",
       "      <td>20.29</td>\n",
       "      <td>14.34</td>\n",
       "      <td>135.10</td>\n",
       "      <td>1297.0</td>\n",
       "      <td>0.10030</td>\n",
       "      <td>0.13280</td>\n",
       "      <td>0.1980</td>\n",
       "      <td>0.10430</td>\n",
       "      <td>...</td>\n",
       "      <td>16.67</td>\n",
       "      <td>152.20</td>\n",
       "      <td>1575.0</td>\n",
       "      <td>0.1374</td>\n",
       "      <td>0.2050</td>\n",
       "      <td>0.4000</td>\n",
       "      <td>0.1625</td>\n",
       "      <td>0.2364</td>\n",
       "      <td>0.07678</td>\n",
       "      <td>NaN</td>\n",
       "    </tr>\n",
       "  </tbody>\n",
       "</table>\n",
       "<p>5 rows × 33 columns</p>\n",
       "</div>"
      ],
      "text/plain": [
       "         id diagnosis  radius_mean  texture_mean  perimeter_mean  area_mean  \\\n",
       "0    842302         M        17.99         10.38          122.80     1001.0   \n",
       "1    842517         M        20.57         17.77          132.90     1326.0   \n",
       "2  84300903         M        19.69         21.25          130.00     1203.0   \n",
       "3  84348301         M        11.42         20.38           77.58      386.1   \n",
       "4  84358402         M        20.29         14.34          135.10     1297.0   \n",
       "\n",
       "   smoothness_mean  compactness_mean  concavity_mean  concave points_mean  \\\n",
       "0          0.11840           0.27760          0.3001              0.14710   \n",
       "1          0.08474           0.07864          0.0869              0.07017   \n",
       "2          0.10960           0.15990          0.1974              0.12790   \n",
       "3          0.14250           0.28390          0.2414              0.10520   \n",
       "4          0.10030           0.13280          0.1980              0.10430   \n",
       "\n",
       "   ...  texture_worst  perimeter_worst  area_worst  smoothness_worst  \\\n",
       "0  ...          17.33           184.60      2019.0            0.1622   \n",
       "1  ...          23.41           158.80      1956.0            0.1238   \n",
       "2  ...          25.53           152.50      1709.0            0.1444   \n",
       "3  ...          26.50            98.87       567.7            0.2098   \n",
       "4  ...          16.67           152.20      1575.0            0.1374   \n",
       "\n",
       "   compactness_worst  concavity_worst  concave points_worst  symmetry_worst  \\\n",
       "0             0.6656           0.7119                0.2654          0.4601   \n",
       "1             0.1866           0.2416                0.1860          0.2750   \n",
       "2             0.4245           0.4504                0.2430          0.3613   \n",
       "3             0.8663           0.6869                0.2575          0.6638   \n",
       "4             0.2050           0.4000                0.1625          0.2364   \n",
       "\n",
       "   fractal_dimension_worst  Unnamed: 32  \n",
       "0                  0.11890          NaN  \n",
       "1                  0.08902          NaN  \n",
       "2                  0.08758          NaN  \n",
       "3                  0.17300          NaN  \n",
       "4                  0.07678          NaN  \n",
       "\n",
       "[5 rows x 33 columns]"
      ]
     },
     "execution_count": 4,
     "metadata": {},
     "output_type": "execute_result"
    }
   ],
   "source": [
    "df.head()"
   ]
  },
  {
   "cell_type": "code",
   "execution_count": 5,
   "id": "cfe458d1",
   "metadata": {
    "execution": {
     "iopub.execute_input": "2023-10-22T06:44:57.529666Z",
     "iopub.status.busy": "2023-10-22T06:44:57.529063Z",
     "iopub.status.idle": "2023-10-22T06:44:57.536669Z",
     "shell.execute_reply": "2023-10-22T06:44:57.535492Z"
    },
    "papermill": {
     "duration": 0.024564,
     "end_time": "2023-10-22T06:44:57.540037",
     "exception": false,
     "start_time": "2023-10-22T06:44:57.515473",
     "status": "completed"
    },
    "tags": []
   },
   "outputs": [
    {
     "data": {
      "text/plain": [
       "(569, 33)"
      ]
     },
     "execution_count": 5,
     "metadata": {},
     "output_type": "execute_result"
    }
   ],
   "source": [
    "df.shape  # Dataset Shape"
   ]
  },
  {
   "cell_type": "code",
   "execution_count": 6,
   "id": "e49b81be",
   "metadata": {
    "execution": {
     "iopub.execute_input": "2023-10-22T06:44:57.567939Z",
     "iopub.status.busy": "2023-10-22T06:44:57.567465Z",
     "iopub.status.idle": "2023-10-22T06:44:57.599667Z",
     "shell.execute_reply": "2023-10-22T06:44:57.598400Z"
    },
    "papermill": {
     "duration": 0.050686,
     "end_time": "2023-10-22T06:44:57.603528",
     "exception": false,
     "start_time": "2023-10-22T06:44:57.552842",
     "status": "completed"
    },
    "tags": []
   },
   "outputs": [
    {
     "name": "stdout",
     "output_type": "stream",
     "text": [
      "<class 'pandas.core.frame.DataFrame'>\n",
      "RangeIndex: 569 entries, 0 to 568\n",
      "Data columns (total 33 columns):\n",
      " #   Column                   Non-Null Count  Dtype  \n",
      "---  ------                   --------------  -----  \n",
      " 0   id                       569 non-null    int64  \n",
      " 1   diagnosis                569 non-null    object \n",
      " 2   radius_mean              569 non-null    float64\n",
      " 3   texture_mean             569 non-null    float64\n",
      " 4   perimeter_mean           569 non-null    float64\n",
      " 5   area_mean                569 non-null    float64\n",
      " 6   smoothness_mean          569 non-null    float64\n",
      " 7   compactness_mean         569 non-null    float64\n",
      " 8   concavity_mean           569 non-null    float64\n",
      " 9   concave points_mean      569 non-null    float64\n",
      " 10  symmetry_mean            569 non-null    float64\n",
      " 11  fractal_dimension_mean   569 non-null    float64\n",
      " 12  radius_se                569 non-null    float64\n",
      " 13  texture_se               569 non-null    float64\n",
      " 14  perimeter_se             569 non-null    float64\n",
      " 15  area_se                  569 non-null    float64\n",
      " 16  smoothness_se            569 non-null    float64\n",
      " 17  compactness_se           569 non-null    float64\n",
      " 18  concavity_se             569 non-null    float64\n",
      " 19  concave points_se        569 non-null    float64\n",
      " 20  symmetry_se              569 non-null    float64\n",
      " 21  fractal_dimension_se     569 non-null    float64\n",
      " 22  radius_worst             569 non-null    float64\n",
      " 23  texture_worst            569 non-null    float64\n",
      " 24  perimeter_worst          569 non-null    float64\n",
      " 25  area_worst               569 non-null    float64\n",
      " 26  smoothness_worst         569 non-null    float64\n",
      " 27  compactness_worst        569 non-null    float64\n",
      " 28  concavity_worst          569 non-null    float64\n",
      " 29  concave points_worst     569 non-null    float64\n",
      " 30  symmetry_worst           569 non-null    float64\n",
      " 31  fractal_dimension_worst  569 non-null    float64\n",
      " 32  Unnamed: 32              0 non-null      float64\n",
      "dtypes: float64(31), int64(1), object(1)\n",
      "memory usage: 146.8+ KB\n"
     ]
    }
   ],
   "source": [
    "df.info() # Dataset Information"
   ]
  },
  {
   "cell_type": "code",
   "execution_count": 7,
   "id": "3f0a291d",
   "metadata": {
    "execution": {
     "iopub.execute_input": "2023-10-22T06:44:57.631138Z",
     "iopub.status.busy": "2023-10-22T06:44:57.630694Z",
     "iopub.status.idle": "2023-10-22T06:44:57.752552Z",
     "shell.execute_reply": "2023-10-22T06:44:57.751412Z"
    },
    "papermill": {
     "duration": 0.139729,
     "end_time": "2023-10-22T06:44:57.755331",
     "exception": false,
     "start_time": "2023-10-22T06:44:57.615602",
     "status": "completed"
    },
    "tags": []
   },
   "outputs": [
    {
     "data": {
      "text/html": [
       "<div>\n",
       "<style scoped>\n",
       "    .dataframe tbody tr th:only-of-type {\n",
       "        vertical-align: middle;\n",
       "    }\n",
       "\n",
       "    .dataframe tbody tr th {\n",
       "        vertical-align: top;\n",
       "    }\n",
       "\n",
       "    .dataframe thead th {\n",
       "        text-align: right;\n",
       "    }\n",
       "</style>\n",
       "<table border=\"1\" class=\"dataframe\">\n",
       "  <thead>\n",
       "    <tr style=\"text-align: right;\">\n",
       "      <th></th>\n",
       "      <th>id</th>\n",
       "      <th>radius_mean</th>\n",
       "      <th>texture_mean</th>\n",
       "      <th>perimeter_mean</th>\n",
       "      <th>area_mean</th>\n",
       "      <th>smoothness_mean</th>\n",
       "      <th>compactness_mean</th>\n",
       "      <th>concavity_mean</th>\n",
       "      <th>concave points_mean</th>\n",
       "      <th>symmetry_mean</th>\n",
       "      <th>...</th>\n",
       "      <th>texture_worst</th>\n",
       "      <th>perimeter_worst</th>\n",
       "      <th>area_worst</th>\n",
       "      <th>smoothness_worst</th>\n",
       "      <th>compactness_worst</th>\n",
       "      <th>concavity_worst</th>\n",
       "      <th>concave points_worst</th>\n",
       "      <th>symmetry_worst</th>\n",
       "      <th>fractal_dimension_worst</th>\n",
       "      <th>Unnamed: 32</th>\n",
       "    </tr>\n",
       "  </thead>\n",
       "  <tbody>\n",
       "    <tr>\n",
       "      <th>count</th>\n",
       "      <td>5.690000e+02</td>\n",
       "      <td>569.000000</td>\n",
       "      <td>569.000000</td>\n",
       "      <td>569.000000</td>\n",
       "      <td>569.000000</td>\n",
       "      <td>569.000000</td>\n",
       "      <td>569.000000</td>\n",
       "      <td>569.000000</td>\n",
       "      <td>569.000000</td>\n",
       "      <td>569.000000</td>\n",
       "      <td>...</td>\n",
       "      <td>569.000000</td>\n",
       "      <td>569.000000</td>\n",
       "      <td>569.000000</td>\n",
       "      <td>569.000000</td>\n",
       "      <td>569.000000</td>\n",
       "      <td>569.000000</td>\n",
       "      <td>569.000000</td>\n",
       "      <td>569.000000</td>\n",
       "      <td>569.000000</td>\n",
       "      <td>0.0</td>\n",
       "    </tr>\n",
       "    <tr>\n",
       "      <th>mean</th>\n",
       "      <td>3.037183e+07</td>\n",
       "      <td>14.127292</td>\n",
       "      <td>19.289649</td>\n",
       "      <td>91.969033</td>\n",
       "      <td>654.889104</td>\n",
       "      <td>0.096360</td>\n",
       "      <td>0.104341</td>\n",
       "      <td>0.088799</td>\n",
       "      <td>0.048919</td>\n",
       "      <td>0.181162</td>\n",
       "      <td>...</td>\n",
       "      <td>25.677223</td>\n",
       "      <td>107.261213</td>\n",
       "      <td>880.583128</td>\n",
       "      <td>0.132369</td>\n",
       "      <td>0.254265</td>\n",
       "      <td>0.272188</td>\n",
       "      <td>0.114606</td>\n",
       "      <td>0.290076</td>\n",
       "      <td>0.083946</td>\n",
       "      <td>NaN</td>\n",
       "    </tr>\n",
       "    <tr>\n",
       "      <th>std</th>\n",
       "      <td>1.250206e+08</td>\n",
       "      <td>3.524049</td>\n",
       "      <td>4.301036</td>\n",
       "      <td>24.298981</td>\n",
       "      <td>351.914129</td>\n",
       "      <td>0.014064</td>\n",
       "      <td>0.052813</td>\n",
       "      <td>0.079720</td>\n",
       "      <td>0.038803</td>\n",
       "      <td>0.027414</td>\n",
       "      <td>...</td>\n",
       "      <td>6.146258</td>\n",
       "      <td>33.602542</td>\n",
       "      <td>569.356993</td>\n",
       "      <td>0.022832</td>\n",
       "      <td>0.157336</td>\n",
       "      <td>0.208624</td>\n",
       "      <td>0.065732</td>\n",
       "      <td>0.061867</td>\n",
       "      <td>0.018061</td>\n",
       "      <td>NaN</td>\n",
       "    </tr>\n",
       "    <tr>\n",
       "      <th>min</th>\n",
       "      <td>8.670000e+03</td>\n",
       "      <td>6.981000</td>\n",
       "      <td>9.710000</td>\n",
       "      <td>43.790000</td>\n",
       "      <td>143.500000</td>\n",
       "      <td>0.052630</td>\n",
       "      <td>0.019380</td>\n",
       "      <td>0.000000</td>\n",
       "      <td>0.000000</td>\n",
       "      <td>0.106000</td>\n",
       "      <td>...</td>\n",
       "      <td>12.020000</td>\n",
       "      <td>50.410000</td>\n",
       "      <td>185.200000</td>\n",
       "      <td>0.071170</td>\n",
       "      <td>0.027290</td>\n",
       "      <td>0.000000</td>\n",
       "      <td>0.000000</td>\n",
       "      <td>0.156500</td>\n",
       "      <td>0.055040</td>\n",
       "      <td>NaN</td>\n",
       "    </tr>\n",
       "    <tr>\n",
       "      <th>25%</th>\n",
       "      <td>8.692180e+05</td>\n",
       "      <td>11.700000</td>\n",
       "      <td>16.170000</td>\n",
       "      <td>75.170000</td>\n",
       "      <td>420.300000</td>\n",
       "      <td>0.086370</td>\n",
       "      <td>0.064920</td>\n",
       "      <td>0.029560</td>\n",
       "      <td>0.020310</td>\n",
       "      <td>0.161900</td>\n",
       "      <td>...</td>\n",
       "      <td>21.080000</td>\n",
       "      <td>84.110000</td>\n",
       "      <td>515.300000</td>\n",
       "      <td>0.116600</td>\n",
       "      <td>0.147200</td>\n",
       "      <td>0.114500</td>\n",
       "      <td>0.064930</td>\n",
       "      <td>0.250400</td>\n",
       "      <td>0.071460</td>\n",
       "      <td>NaN</td>\n",
       "    </tr>\n",
       "    <tr>\n",
       "      <th>50%</th>\n",
       "      <td>9.060240e+05</td>\n",
       "      <td>13.370000</td>\n",
       "      <td>18.840000</td>\n",
       "      <td>86.240000</td>\n",
       "      <td>551.100000</td>\n",
       "      <td>0.095870</td>\n",
       "      <td>0.092630</td>\n",
       "      <td>0.061540</td>\n",
       "      <td>0.033500</td>\n",
       "      <td>0.179200</td>\n",
       "      <td>...</td>\n",
       "      <td>25.410000</td>\n",
       "      <td>97.660000</td>\n",
       "      <td>686.500000</td>\n",
       "      <td>0.131300</td>\n",
       "      <td>0.211900</td>\n",
       "      <td>0.226700</td>\n",
       "      <td>0.099930</td>\n",
       "      <td>0.282200</td>\n",
       "      <td>0.080040</td>\n",
       "      <td>NaN</td>\n",
       "    </tr>\n",
       "    <tr>\n",
       "      <th>75%</th>\n",
       "      <td>8.813129e+06</td>\n",
       "      <td>15.780000</td>\n",
       "      <td>21.800000</td>\n",
       "      <td>104.100000</td>\n",
       "      <td>782.700000</td>\n",
       "      <td>0.105300</td>\n",
       "      <td>0.130400</td>\n",
       "      <td>0.130700</td>\n",
       "      <td>0.074000</td>\n",
       "      <td>0.195700</td>\n",
       "      <td>...</td>\n",
       "      <td>29.720000</td>\n",
       "      <td>125.400000</td>\n",
       "      <td>1084.000000</td>\n",
       "      <td>0.146000</td>\n",
       "      <td>0.339100</td>\n",
       "      <td>0.382900</td>\n",
       "      <td>0.161400</td>\n",
       "      <td>0.317900</td>\n",
       "      <td>0.092080</td>\n",
       "      <td>NaN</td>\n",
       "    </tr>\n",
       "    <tr>\n",
       "      <th>max</th>\n",
       "      <td>9.113205e+08</td>\n",
       "      <td>28.110000</td>\n",
       "      <td>39.280000</td>\n",
       "      <td>188.500000</td>\n",
       "      <td>2501.000000</td>\n",
       "      <td>0.163400</td>\n",
       "      <td>0.345400</td>\n",
       "      <td>0.426800</td>\n",
       "      <td>0.201200</td>\n",
       "      <td>0.304000</td>\n",
       "      <td>...</td>\n",
       "      <td>49.540000</td>\n",
       "      <td>251.200000</td>\n",
       "      <td>4254.000000</td>\n",
       "      <td>0.222600</td>\n",
       "      <td>1.058000</td>\n",
       "      <td>1.252000</td>\n",
       "      <td>0.291000</td>\n",
       "      <td>0.663800</td>\n",
       "      <td>0.207500</td>\n",
       "      <td>NaN</td>\n",
       "    </tr>\n",
       "  </tbody>\n",
       "</table>\n",
       "<p>8 rows × 32 columns</p>\n",
       "</div>"
      ],
      "text/plain": [
       "                 id  radius_mean  texture_mean  perimeter_mean    area_mean  \\\n",
       "count  5.690000e+02   569.000000    569.000000      569.000000   569.000000   \n",
       "mean   3.037183e+07    14.127292     19.289649       91.969033   654.889104   \n",
       "std    1.250206e+08     3.524049      4.301036       24.298981   351.914129   \n",
       "min    8.670000e+03     6.981000      9.710000       43.790000   143.500000   \n",
       "25%    8.692180e+05    11.700000     16.170000       75.170000   420.300000   \n",
       "50%    9.060240e+05    13.370000     18.840000       86.240000   551.100000   \n",
       "75%    8.813129e+06    15.780000     21.800000      104.100000   782.700000   \n",
       "max    9.113205e+08    28.110000     39.280000      188.500000  2501.000000   \n",
       "\n",
       "       smoothness_mean  compactness_mean  concavity_mean  concave points_mean  \\\n",
       "count       569.000000        569.000000      569.000000           569.000000   \n",
       "mean          0.096360          0.104341        0.088799             0.048919   \n",
       "std           0.014064          0.052813        0.079720             0.038803   \n",
       "min           0.052630          0.019380        0.000000             0.000000   \n",
       "25%           0.086370          0.064920        0.029560             0.020310   \n",
       "50%           0.095870          0.092630        0.061540             0.033500   \n",
       "75%           0.105300          0.130400        0.130700             0.074000   \n",
       "max           0.163400          0.345400        0.426800             0.201200   \n",
       "\n",
       "       symmetry_mean  ...  texture_worst  perimeter_worst   area_worst  \\\n",
       "count     569.000000  ...     569.000000       569.000000   569.000000   \n",
       "mean        0.181162  ...      25.677223       107.261213   880.583128   \n",
       "std         0.027414  ...       6.146258        33.602542   569.356993   \n",
       "min         0.106000  ...      12.020000        50.410000   185.200000   \n",
       "25%         0.161900  ...      21.080000        84.110000   515.300000   \n",
       "50%         0.179200  ...      25.410000        97.660000   686.500000   \n",
       "75%         0.195700  ...      29.720000       125.400000  1084.000000   \n",
       "max         0.304000  ...      49.540000       251.200000  4254.000000   \n",
       "\n",
       "       smoothness_worst  compactness_worst  concavity_worst  \\\n",
       "count        569.000000         569.000000       569.000000   \n",
       "mean           0.132369           0.254265         0.272188   \n",
       "std            0.022832           0.157336         0.208624   \n",
       "min            0.071170           0.027290         0.000000   \n",
       "25%            0.116600           0.147200         0.114500   \n",
       "50%            0.131300           0.211900         0.226700   \n",
       "75%            0.146000           0.339100         0.382900   \n",
       "max            0.222600           1.058000         1.252000   \n",
       "\n",
       "       concave points_worst  symmetry_worst  fractal_dimension_worst  \\\n",
       "count            569.000000      569.000000               569.000000   \n",
       "mean               0.114606        0.290076                 0.083946   \n",
       "std                0.065732        0.061867                 0.018061   \n",
       "min                0.000000        0.156500                 0.055040   \n",
       "25%                0.064930        0.250400                 0.071460   \n",
       "50%                0.099930        0.282200                 0.080040   \n",
       "75%                0.161400        0.317900                 0.092080   \n",
       "max                0.291000        0.663800                 0.207500   \n",
       "\n",
       "       Unnamed: 32  \n",
       "count          0.0  \n",
       "mean           NaN  \n",
       "std            NaN  \n",
       "min            NaN  \n",
       "25%            NaN  \n",
       "50%            NaN  \n",
       "75%            NaN  \n",
       "max            NaN  \n",
       "\n",
       "[8 rows x 32 columns]"
      ]
     },
     "execution_count": 7,
     "metadata": {},
     "output_type": "execute_result"
    }
   ],
   "source": [
    "df.describe()   # Statistics"
   ]
  },
  {
   "cell_type": "markdown",
   "id": "4e315632",
   "metadata": {
    "papermill": {
     "duration": 0.013691,
     "end_time": "2023-10-22T06:44:57.783193",
     "exception": false,
     "start_time": "2023-10-22T06:44:57.769502",
     "status": "completed"
    },
    "tags": []
   },
   "source": [
    "# 4. Data Visualization"
   ]
  },
  {
   "cell_type": "code",
   "execution_count": 8,
   "id": "073825e5",
   "metadata": {
    "execution": {
     "iopub.execute_input": "2023-10-22T06:44:57.813171Z",
     "iopub.status.busy": "2023-10-22T06:44:57.812786Z",
     "iopub.status.idle": "2023-10-22T06:44:57.822227Z",
     "shell.execute_reply": "2023-10-22T06:44:57.821352Z"
    },
    "papermill": {
     "duration": 0.027778,
     "end_time": "2023-10-22T06:44:57.824728",
     "exception": false,
     "start_time": "2023-10-22T06:44:57.796950",
     "status": "completed"
    },
    "tags": []
   },
   "outputs": [
    {
     "data": {
      "text/plain": [
       "diagnosis\n",
       "B    357\n",
       "M    212\n",
       "Name: count, dtype: int64"
      ]
     },
     "execution_count": 8,
     "metadata": {},
     "output_type": "execute_result"
    }
   ],
   "source": [
    "df['diagnosis'].value_counts()"
   ]
  },
  {
   "cell_type": "markdown",
   "id": "ee8037bc",
   "metadata": {
    "papermill": {
     "duration": 0.014688,
     "end_time": "2023-10-22T06:44:57.852937",
     "exception": false,
     "start_time": "2023-10-22T06:44:57.838249",
     "status": "completed"
    },
    "tags": []
   },
   "source": [
    "**Pie Chart**"
   ]
  },
  {
   "cell_type": "code",
   "execution_count": 9,
   "id": "7e9026f7",
   "metadata": {
    "execution": {
     "iopub.execute_input": "2023-10-22T06:44:57.883928Z",
     "iopub.status.busy": "2023-10-22T06:44:57.883376Z",
     "iopub.status.idle": "2023-10-22T06:44:58.103781Z",
     "shell.execute_reply": "2023-10-22T06:44:58.102124Z"
    },
    "papermill": {
     "duration": 0.241715,
     "end_time": "2023-10-22T06:44:58.109389",
     "exception": false,
     "start_time": "2023-10-22T06:44:57.867674",
     "status": "completed"
    },
    "tags": []
   },
   "outputs": [
    {
     "data": {
      "image/png": "[encoded data removed]",
      "text/plain": [
       "<Figure size 640x480 with 1 Axes>"
      ]
     },
     "metadata": {},
     "output_type": "display_data"
    }
   ],
   "source": [
    "\n",
    "# Data for the pie chart\n",
    "\n",
    "labels =['B','M']\n",
    "sizes = df['diagnosis'].value_counts() \n",
    "colors = ['blue', 'yellow']\n",
    "explode = (0, 0) \n",
    "\n",
    "\n",
    "# Create a pie chart\n",
    "\n",
    "plt.pie(sizes, labels=labels, colors=colors, explode=explode, autopct='%1.1f%%', startangle=90)\n",
    "\n",
    "\n",
    "plt.axis('equal') \n",
    "plt.title('Diagnosis Distribution')\n",
    "\n",
    "\n",
    "# Display the pie chart\n",
    "plt.show()"
   ]
  },
  {
   "cell_type": "markdown",
   "id": "a47fbdc6",
   "metadata": {
    "papermill": {
     "duration": 0.014902,
     "end_time": "2023-10-22T06:44:58.151649",
     "exception": false,
     "start_time": "2023-10-22T06:44:58.136747",
     "status": "completed"
    },
    "tags": []
   },
   "source": [
    "# 5. Data Preprocessing"
   ]
  },
  {
   "cell_type": "code",
   "execution_count": 10,
   "id": "334663ef",
   "metadata": {
    "execution": {
     "iopub.execute_input": "2023-10-22T06:44:58.183706Z",
     "iopub.status.busy": "2023-10-22T06:44:58.182584Z",
     "iopub.status.idle": "2023-10-22T06:44:58.193037Z",
     "shell.execute_reply": "2023-10-22T06:44:58.192100Z"
    },
    "papermill": {
     "duration": 0.028956,
     "end_time": "2023-10-22T06:44:58.196172",
     "exception": false,
     "start_time": "2023-10-22T06:44:58.167216",
     "status": "completed"
    },
    "tags": []
   },
   "outputs": [
    {
     "data": {
      "text/plain": [
       "id                           0\n",
       "diagnosis                    0\n",
       "radius_mean                  0\n",
       "texture_mean                 0\n",
       "perimeter_mean               0\n",
       "area_mean                    0\n",
       "smoothness_mean              0\n",
       "compactness_mean             0\n",
       "concavity_mean               0\n",
       "concave points_mean          0\n",
       "symmetry_mean                0\n",
       "fractal_dimension_mean       0\n",
       "radius_se                    0\n",
       "texture_se                   0\n",
       "perimeter_se                 0\n",
       "area_se                      0\n",
       "smoothness_se                0\n",
       "compactness_se               0\n",
       "concavity_se                 0\n",
       "concave points_se            0\n",
       "symmetry_se                  0\n",
       "fractal_dimension_se         0\n",
       "radius_worst                 0\n",
       "texture_worst                0\n",
       "perimeter_worst              0\n",
       "area_worst                   0\n",
       "smoothness_worst             0\n",
       "compactness_worst            0\n",
       "concavity_worst              0\n",
       "concave points_worst         0\n",
       "symmetry_worst               0\n",
       "fractal_dimension_worst      0\n",
       "Unnamed: 32                569\n",
       "dtype: int64"
      ]
     },
     "execution_count": 10,
     "metadata": {},
     "output_type": "execute_result"
    }
   ],
   "source": [
    "df.isnull().sum()   # Missing Values"
   ]
  },
  {
   "cell_type": "markdown",
   "id": "e8418a82",
   "metadata": {
    "papermill": {
     "duration": 0.014871,
     "end_time": "2023-10-22T06:44:58.225465",
     "exception": false,
     "start_time": "2023-10-22T06:44:58.210594",
     "status": "completed"
    },
    "tags": []
   },
   "source": [
    "**Removing irrelevant features**"
   ]
  },
  {
   "cell_type": "code",
   "execution_count": 11,
   "id": "f8a4d1c7",
   "metadata": {
    "execution": {
     "iopub.execute_input": "2023-10-22T06:44:58.256393Z",
     "iopub.status.busy": "2023-10-22T06:44:58.255654Z",
     "iopub.status.idle": "2023-10-22T06:44:58.263394Z",
     "shell.execute_reply": "2023-10-22T06:44:58.261621Z"
    },
    "papermill": {
     "duration": 0.027103,
     "end_time": "2023-10-22T06:44:58.266398",
     "exception": false,
     "start_time": "2023-10-22T06:44:58.239295",
     "status": "completed"
    },
    "tags": []
   },
   "outputs": [],
   "source": [
    "df=df.drop(['id','Unnamed: 32'], axis=1) "
   ]
  },
  {
   "cell_type": "markdown",
   "id": "ef4e1b1f",
   "metadata": {
    "papermill": {
     "duration": 0.013821,
     "end_time": "2023-10-22T06:44:58.293739",
     "exception": false,
     "start_time": "2023-10-22T06:44:58.279918",
     "status": "completed"
    },
    "tags": []
   },
   "source": [
    "**Encoding categorical variables**"
   ]
  },
  {
   "cell_type": "code",
   "execution_count": 12,
   "id": "9b509a72",
   "metadata": {
    "execution": {
     "iopub.execute_input": "2023-10-22T06:44:58.325965Z",
     "iopub.status.busy": "2023-10-22T06:44:58.325462Z",
     "iopub.status.idle": "2023-10-22T06:44:58.333769Z",
     "shell.execute_reply": "2023-10-22T06:44:58.332119Z"
    },
    "papermill": {
     "duration": 0.028769,
     "end_time": "2023-10-22T06:44:58.337818",
     "exception": false,
     "start_time": "2023-10-22T06:44:58.309049",
     "status": "completed"
    },
    "tags": []
   },
   "outputs": [],
   "source": [
    "# Map \"M\" and \"B\" to 1 and 0 \n",
    "\n",
    "df['diagnosis']= df['diagnosis']  .map({'M': 1, 'B': 0})"
   ]
  },
  {
   "cell_type": "markdown",
   "id": "016f9ed0",
   "metadata": {
    "papermill": {
     "duration": 0.014727,
     "end_time": "2023-10-22T06:44:58.366188",
     "exception": false,
     "start_time": "2023-10-22T06:44:58.351461",
     "status": "completed"
    },
    "tags": []
   },
   "source": [
    "**Define features and the target variable**"
   ]
  },
  {
   "cell_type": "code",
   "execution_count": 13,
   "id": "9296e03d",
   "metadata": {
    "execution": {
     "iopub.execute_input": "2023-10-22T06:44:58.395534Z",
     "iopub.status.busy": "2023-10-22T06:44:58.395107Z",
     "iopub.status.idle": "2023-10-22T06:44:58.402072Z",
     "shell.execute_reply": "2023-10-22T06:44:58.400938Z"
    },
    "papermill": {
     "duration": 0.024641,
     "end_time": "2023-10-22T06:44:58.404792",
     "exception": false,
     "start_time": "2023-10-22T06:44:58.380151",
     "status": "completed"
    },
    "tags": []
   },
   "outputs": [],
   "source": [
    "\n",
    "X = df.drop(['diagnosis'], axis=1)  \n",
    "y = df['diagnosis']  "
   ]
  },
  {
   "cell_type": "markdown",
   "id": "5bd948e5",
   "metadata": {
    "papermill": {
     "duration": 0.013978,
     "end_time": "2023-10-22T06:44:58.432063",
     "exception": false,
     "start_time": "2023-10-22T06:44:58.418085",
     "status": "completed"
    },
    "tags": []
   },
   "source": [
    "# 6. Data Splitting"
   ]
  },
  {
   "cell_type": "code",
   "execution_count": 14,
   "id": "a710a59a",
   "metadata": {
    "execution": {
     "iopub.execute_input": "2023-10-22T06:44:58.460756Z",
     "iopub.status.busy": "2023-10-22T06:44:58.460330Z",
     "iopub.status.idle": "2023-10-22T06:44:58.760154Z",
     "shell.execute_reply": "2023-10-22T06:44:58.758822Z"
    },
    "papermill": {
     "duration": 0.31873,
     "end_time": "2023-10-22T06:44:58.763873",
     "exception": false,
     "start_time": "2023-10-22T06:44:58.445143",
     "status": "completed"
    },
    "tags": []
   },
   "outputs": [],
   "source": [
    "from sklearn.model_selection import train_test_split\n"
   ]
  },
  {
   "cell_type": "code",
   "execution_count": 15,
   "id": "7c62bc43",
   "metadata": {
    "execution": {
     "iopub.execute_input": "2023-10-22T06:44:58.795286Z",
     "iopub.status.busy": "2023-10-22T06:44:58.794872Z",
     "iopub.status.idle": "2023-10-22T06:44:58.802199Z",
     "shell.execute_reply": "2023-10-22T06:44:58.800996Z"
    },
    "papermill": {
     "duration": 0.026978,
     "end_time": "2023-10-22T06:44:58.805221",
     "exception": false,
     "start_time": "2023-10-22T06:44:58.778243",
     "status": "completed"
    },
    "tags": []
   },
   "outputs": [],
   "source": [
    "\n",
    "# Split the data into training and testing sets\n",
    "\n",
    "X_train, X_test, y_train, y_test = train_test_split(X, y, test_size=0.2)"
   ]
  },
  {
   "cell_type": "markdown",
   "id": "45e91484",
   "metadata": {
    "papermill": {
     "duration": 0.089061,
     "end_time": "2023-10-22T06:44:58.907921",
     "exception": false,
     "start_time": "2023-10-22T06:44:58.818860",
     "status": "completed"
    },
    "tags": []
   },
   "source": [
    "# 7. Model Building"
   ]
  },
  {
   "cell_type": "markdown",
   "id": "5337e428",
   "metadata": {
    "papermill": {
     "duration": 0.014334,
     "end_time": "2023-10-22T06:44:58.937612",
     "exception": false,
     "start_time": "2023-10-22T06:44:58.923278",
     "status": "completed"
    },
    "tags": []
   },
   "source": [
    "**Model Selection**"
   ]
  },
  {
   "cell_type": "code",
   "execution_count": 16,
   "id": "da335a5d",
   "metadata": {
    "execution": {
     "iopub.execute_input": "2023-10-22T06:44:58.970177Z",
     "iopub.status.busy": "2023-10-22T06:44:58.969784Z",
     "iopub.status.idle": "2023-10-22T06:44:59.431431Z",
     "shell.execute_reply": "2023-10-22T06:44:59.429922Z"
    },
    "papermill": {
     "duration": 0.483468,
     "end_time": "2023-10-22T06:44:59.435692",
     "exception": false,
     "start_time": "2023-10-22T06:44:58.952224",
     "status": "completed"
    },
    "tags": []
   },
   "outputs": [],
   "source": [
    "from sklearn.ensemble import RandomForestClassifier\n",
    "\n",
    "model = RandomForestClassifier()"
   ]
  },
  {
   "cell_type": "markdown",
   "id": "85f9eba6",
   "metadata": {
    "papermill": {
     "duration": 0.013932,
     "end_time": "2023-10-22T06:44:59.463406",
     "exception": false,
     "start_time": "2023-10-22T06:44:59.449474",
     "status": "completed"
    },
    "tags": []
   },
   "source": [
    "**Model Training**"
   ]
  },
  {
   "cell_type": "code",
   "execution_count": 17,
   "id": "2db91e22",
   "metadata": {
    "execution": {
     "iopub.execute_input": "2023-10-22T06:44:59.495302Z",
     "iopub.status.busy": "2023-10-22T06:44:59.494904Z",
     "iopub.status.idle": "2023-10-22T06:44:59.849280Z",
     "shell.execute_reply": "2023-10-22T06:44:59.848076Z"
    },
    "papermill": {
     "duration": 0.37303,
     "end_time": "2023-10-22T06:44:59.851860",
     "exception": false,
     "start_time": "2023-10-22T06:44:59.478830",
     "status": "completed"
    },
    "tags": []
   },
   "outputs": [
    {
     "data": {
      "text/html": [
       "<style>#sk-container-id-1 {color: black;background-color: white;}#sk-container-id-1 pre{padding: 0;}#sk-container-id-1 div.sk-toggleable {background-color: white;}#sk-container-id-1 label.sk-toggleable__label {cursor: pointer;display: block;width: 100%;margin-bottom: 0;padding: 0.3em;box-sizing: border-box;text-align: center;}#sk-container-id-1 label.sk-toggleable__label-arrow:before {content: \"▸\";float: left;margin-right: 0.25em;color: #696969;}#sk-container-id-1 label.sk-toggleable__label-arrow:hover:before {color: black;}#sk-container-id-1 div.sk-estimator:hover label.sk-toggleable__label-arrow:before {color: black;}#sk-container-id-1 div.sk-toggleable__content {max-height: 0;max-width: 0;overflow: hidden;text-align: left;background-color: #f0f8ff;}#sk-container-id-1 div.sk-toggleable__content pre {margin: 0.2em;color: black;border-radius: 0.25em;background-color: #f0f8ff;}#sk-container-id-1 input.sk-toggleable__control:checked~div.sk-toggleable__content {max-height: 200px;max-width: 100%;overflow: auto;}#sk-container-id-1 input.sk-toggleable__control:checked~label.sk-toggleable__label-arrow:before {content: \"▾\";}#sk-container-id-1 div.sk-estimator input.sk-toggleable__control:checked~label.sk-toggleable__label {background-color: #d4ebff;}#sk-container-id-1 div.sk-label input.sk-toggleable__control:checked~label.sk-toggleable__label {background-color: #d4ebff;}#sk-container-id-1 input.sk-hidden--visually {border: 0;clip: rect(1px 1px 1px 1px);clip: rect(1px, 1px, 1px, 1px);height: 1px;margin: -1px;overflow: hidden;padding: 0;position: absolute;width: 1px;}#sk-container-id-1 div.sk-estimator {font-family: monospace;background-color: #f0f8ff;border: 1px dotted black;border-radius: 0.25em;box-sizing: border-box;margin-bottom: 0.5em;}#sk-container-id-1 div.sk-estimator:hover {background-color: #d4ebff;}#sk-container-id-1 div.sk-parallel-item::after {content: \"\";width: 100%;border-bottom: 1px solid gray;flex-grow: 1;}#sk-container-id-1 div.sk-label:hover label.sk-toggleable__label {background-color: #d4ebff;}#sk-container-id-1 div.sk-serial::before {content: \"\";position: absolute;border-left: 1px solid gray;box-sizing: border-box;top: 0;bottom: 0;left: 50%;z-index: 0;}#sk-container-id-1 div.sk-serial {display: flex;flex-direction: column;align-items: center;background-color: white;padding-right: 0.2em;padding-left: 0.2em;position: relative;}#sk-container-id-1 div.sk-item {position: relative;z-index: 1;}#sk-container-id-1 div.sk-parallel {display: flex;align-items: stretch;justify-content: center;background-color: white;position: relative;}#sk-container-id-1 div.sk-item::before, #sk-container-id-1 div.sk-parallel-item::before {content: \"\";position: absolute;border-left: 1px solid gray;box-sizing: border-box;top: 0;bottom: 0;left: 50%;z-index: -1;}#sk-container-id-1 div.sk-parallel-item {display: flex;flex-direction: column;z-index: 1;position: relative;background-color: white;}#sk-container-id-1 div.sk-parallel-item:first-child::after {align-self: flex-end;width: 50%;}#sk-container-id-1 div.sk-parallel-item:last-child::after {align-self: flex-start;width: 50%;}#sk-container-id-1 div.sk-parallel-item:only-child::after {width: 0;}#sk-container-id-1 div.sk-dashed-wrapped {border: 1px dashed gray;margin: 0 0.4em 0.5em 0.4em;box-sizing: border-box;padding-bottom: 0.4em;background-color: white;}#sk-container-id-1 div.sk-label label {font-family: monospace;font-weight: bold;display: inline-block;line-height: 1.2em;}#sk-container-id-1 div.sk-label-container {text-align: center;}#sk-container-id-1 div.sk-container {/* jupyter's `normalize.less` sets `[hidden] { display: none; }` but bootstrap.min.css set `[hidden] { display: none !important; }` so we also need the `!important` here to be able to override the default hidden behavior on the sphinx rendered scikit-learn.org. See: https://github.com/scikit-learn/scikit-learn/issues/21755 */display: inline-block !important;position: relative;}#sk-container-id-1 div.sk-text-repr-fallback {display: none;}</style><div id=\"sk-container-id-1\" class=\"sk-top-container\"><div class=\"sk-text-repr-fallback\"><pre>RandomForestClassifier()</pre><b>In a Jupyter environment, please rerun this cell to show the HTML representation or trust the notebook. <br />On GitHub, the HTML representation is unable to render, please try loading this page with nbviewer.org.</b></div><div class=\"sk-container\" hidden><div class=\"sk-item\"><div class=\"sk-estimator sk-toggleable\"><input class=\"sk-toggleable__control sk-hidden--visually\" id=\"sk-estimator-id-1\" type=\"checkbox\" checked><label for=\"sk-estimator-id-1\" class=\"sk-toggleable__label sk-toggleable__label-arrow\">RandomForestClassifier</label><div class=\"sk-toggleable__content\"><pre>RandomForestClassifier()</pre></div></div></div></div></div>"
      ],
      "text/plain": [
       "RandomForestClassifier()"
      ]
     },
     "execution_count": 17,
     "metadata": {},
     "output_type": "execute_result"
    }
   ],
   "source": [
    "model.fit(X_train, y_train)"
   ]
  },
  {
   "cell_type": "code",
   "execution_count": 18,
   "id": "75a14b1a",
   "metadata": {
    "execution": {
     "iopub.execute_input": "2023-10-22T06:44:59.883294Z",
     "iopub.status.busy": "2023-10-22T06:44:59.882897Z",
     "iopub.status.idle": "2023-10-22T06:44:59.902540Z",
     "shell.execute_reply": "2023-10-22T06:44:59.901393Z"
    },
    "papermill": {
     "duration": 0.038607,
     "end_time": "2023-10-22T06:44:59.905294",
     "exception": false,
     "start_time": "2023-10-22T06:44:59.866687",
     "status": "completed"
    },
    "tags": []
   },
   "outputs": [],
   "source": [
    "# Make predictions on the test set\n",
    "\n",
    "y_pred = model.predict(X_test)"
   ]
  },
  {
   "cell_type": "markdown",
   "id": "a6214f2b",
   "metadata": {
    "papermill": {
     "duration": 0.013797,
     "end_time": "2023-10-22T06:44:59.934659",
     "exception": false,
     "start_time": "2023-10-22T06:44:59.920862",
     "status": "completed"
    },
    "tags": []
   },
   "source": [
    "# 8. Evaluation"
   ]
  },
  {
   "cell_type": "code",
   "execution_count": 19,
   "id": "1a3d7f65",
   "metadata": {
    "execution": {
     "iopub.execute_input": "2023-10-22T06:44:59.966390Z",
     "iopub.status.busy": "2023-10-22T06:44:59.965952Z",
     "iopub.status.idle": "2023-10-22T06:44:59.971566Z",
     "shell.execute_reply": "2023-10-22T06:44:59.970747Z"
    },
    "papermill": {
     "duration": 0.023334,
     "end_time": "2023-10-22T06:44:59.974234",
     "exception": false,
     "start_time": "2023-10-22T06:44:59.950900",
     "status": "completed"
    },
    "tags": []
   },
   "outputs": [],
   "source": [
    "from sklearn.metrics import classification_report, accuracy_score"
   ]
  },
  {
   "cell_type": "code",
   "execution_count": 20,
   "id": "40951efd",
   "metadata": {
    "execution": {
     "iopub.execute_input": "2023-10-22T06:45:00.005522Z",
     "iopub.status.busy": "2023-10-22T06:45:00.005104Z",
     "iopub.status.idle": "2023-10-22T06:45:00.013800Z",
     "shell.execute_reply": "2023-10-22T06:45:00.012298Z"
    },
    "papermill": {
     "duration": 0.028922,
     "end_time": "2023-10-22T06:45:00.017682",
     "exception": false,
     "start_time": "2023-10-22T06:44:59.988760",
     "status": "completed"
    },
    "tags": []
   },
   "outputs": [
    {
     "name": "stdout",
     "output_type": "stream",
     "text": [
      "Accuracy: 90.35%\n"
     ]
    }
   ],
   "source": [
    "# Evaluate the model\n",
    "\n",
    "accuracy = accuracy_score(y_test, y_pred)\n",
    "print(f\"Accuracy: {accuracy * 100:.2f}%\")"
   ]
  },
  {
   "cell_type": "code",
   "execution_count": 21,
   "id": "6dcb4414",
   "metadata": {
    "execution": {
     "iopub.execute_input": "2023-10-22T06:45:00.049514Z",
     "iopub.status.busy": "2023-10-22T06:45:00.049091Z",
     "iopub.status.idle": "2023-10-22T06:45:00.068741Z",
     "shell.execute_reply": "2023-10-22T06:45:00.066945Z"
    },
    "papermill": {
     "duration": 0.038746,
     "end_time": "2023-10-22T06:45:00.071625",
     "exception": false,
     "start_time": "2023-10-22T06:45:00.032879",
     "status": "completed"
    },
    "tags": []
   },
   "outputs": [
    {
     "name": "stdout",
     "output_type": "stream",
     "text": [
      "              precision    recall  f1-score   support\n",
      "\n",
      "           0       0.92      0.91      0.92        67\n",
      "           1       0.88      0.89      0.88        47\n",
      "\n",
      "    accuracy                           0.90       114\n",
      "   macro avg       0.90      0.90      0.90       114\n",
      "weighted avg       0.90      0.90      0.90       114\n",
      "\n"
     ]
    }
   ],
   "source": [
    "# classification report \n",
    "\n",
    "print(classification_report(y_test, y_pred))"
   ]
  },
  {
   "cell_type": "markdown",
   "id": "1b89d368",
   "metadata": {
    "papermill": {
     "duration": 0.01501,
     "end_time": "2023-10-22T06:45:00.101067",
     "exception": false,
     "start_time": "2023-10-22T06:45:00.086057",
     "status": "completed"
    },
    "tags": []
   },
   "source": [
    "# 9.  Confusion Matrix"
   ]
  },
  {
   "cell_type": "code",
   "execution_count": 22,
   "id": "1f107e27",
   "metadata": {
    "execution": {
     "iopub.execute_input": "2023-10-22T06:45:00.130513Z",
     "iopub.status.busy": "2023-10-22T06:45:00.130031Z",
     "iopub.status.idle": "2023-10-22T06:45:00.136497Z",
     "shell.execute_reply": "2023-10-22T06:45:00.135421Z"
    },
    "papermill": {
     "duration": 0.024205,
     "end_time": "2023-10-22T06:45:00.139089",
     "exception": false,
     "start_time": "2023-10-22T06:45:00.114884",
     "status": "completed"
    },
    "tags": []
   },
   "outputs": [],
   "source": [
    "from sklearn.metrics import confusion_matrix"
   ]
  },
  {
   "cell_type": "code",
   "execution_count": 23,
   "id": "cb3fd12f",
   "metadata": {
    "execution": {
     "iopub.execute_input": "2023-10-22T06:45:00.168259Z",
     "iopub.status.busy": "2023-10-22T06:45:00.167870Z",
     "iopub.status.idle": "2023-10-22T06:45:00.554746Z",
     "shell.execute_reply": "2023-10-22T06:45:00.553248Z"
    },
    "papermill": {
     "duration": 0.404735,
     "end_time": "2023-10-22T06:45:00.557384",
     "exception": false,
     "start_time": "2023-10-22T06:45:00.152649",
     "status": "completed"
    },
    "tags": []
   },
   "outputs": [
    {
     "data": {
      "image/png": "[encoded data removed]",
      "text/plain": [
       "<Figure size 1000x600 with 2 Axes>"
      ]
     },
     "metadata": {},
     "output_type": "display_data"
    }
   ],
   "source": [
    "cm = confusion_matrix(y_test, y_pred)\n",
    "\n",
    "plt.figure(figsize=(10, 6))\n",
    "\n",
    "sns.heatmap(\n",
    "    cm, annot=True, fmt='d', cmap='magma', linewidths=0.4, square=True, cbar=True,\n",
    "    xticklabels=[\"B\", \"M\"],\n",
    "    yticklabels=[\"B\", \"M\"]\n",
    ")\n",
    "\n",
    "plt.xlabel('Predicted', fontsize=14, fontweight='bold')\n",
    "plt.ylabel('Actual', fontsize=14, fontweight='bold')\n",
    "plt.title('Confusion Matrix', fontsize=16, fontweight='bold')\n",
    "plt.yticks(rotation=360)\n",
    "\n",
    "plt.show()"
   ]
  }
 ],
 "metadata": {
  "kernelspec": {
   "display_name": "Python 3",
   "language": "python",
   "name": "python3"
  },
  "language_info": {
   "codemirror_mode": {
    "name": "ipython",
    "version": 3
   },
   "file_extension": ".py",
   "mimetype": "text/x-python",
   "name": "python",
   "nbconvert_exporter": "python",
   "pygments_lexer": "ipython3",
   "version": "3.10.12"
  },
  "papermill": {
   "default_parameters": {},
   "duration": 10.721394,
   "end_time": "2023-10-22T06:45:01.394988",
   "environment_variables": {},
   "exception": null,
   "input_path": "__notebook__.ipynb",
   "output_path": "__notebook__.ipynb",
   "parameters": {},
   "start_time": "2023-10-22T06:44:50.673594",
   "version": "2.4.0"
  }
 },
 "nbformat": 4,
 "nbformat_minor": 5
}
