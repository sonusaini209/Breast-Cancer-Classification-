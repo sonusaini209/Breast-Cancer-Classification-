{
 "cells": [
  {
   "cell_type": "code",
   "execution_count": 1,
   "id": "354c77f8",
   "metadata": {
    "_cell_guid": "b1076dfc-b9ad-4769-8c92-a6c4dae69d19",
    "_uuid": "8f2839f25d086af736a60e9eeb907d3b93b6e0e5",
    "execution": {
     "iopub.execute_input": "2023-10-22T06:52:27.577040Z",
     "iopub.status.busy": "2023-10-22T06:52:27.576623Z",
     "iopub.status.idle": "2023-10-22T06:52:27.878702Z",
     "shell.execute_reply": "2023-10-22T06:52:27.876944Z"
    },
    "papermill": {
     "duration": 0.31458,
     "end_time": "2023-10-22T06:52:27.881333",
     "exception": false,
     "start_time": "2023-10-22T06:52:27.566753",
     "status": "completed"
    },
    "tags": []
   },
   "outputs": [
    {
     "name": "stdout",
     "output_type": "stream",
     "text": [
      "/kaggle/input/breast-cancer/breast-cancer-wisconsin-data_data.csv\n"
     ]
    }
   ],
   "source": [
    "# This Python 3 environment comes with many helpful analytics libraries installed\n",
    "# It is defined by the kaggle/python Docker image: https://github.com/kaggle/docker-python\n",
    "# For example, here's several helpful packages to load\n",
    "\n",
    "import numpy as np # linear algebra\n",
    "import pandas as pd # data processing, CSV file I/O (e.g. pd.read_csv)\n",
    "\n",
    "# Input data files are available in the read-only \"../input/\" directory\n",
    "# For example, running this (by clicking run or pressing Shift+Enter) will list all files under the input directory\n",
    "\n",
    "import os\n",
    "for dirname, _, filenames in os.walk('/kaggle/input'):\n",
    "    for filename in filenames:\n",
    "        print(os.path.join(dirname, filename))\n",
    "\n",
    "# You can write up to 20GB to the current directory (/kaggle/working/) that gets preserved as output when you create a version using \"Save & Run All\" \n",
    "# You can also write temporary files to /kaggle/temp/, but they won't be saved outside of the current session"
   ]
  },
  {
   "cell_type": "markdown",
   "id": "78f08689",
   "metadata": {
    "papermill": {
     "duration": 0.006644,
     "end_time": "2023-10-22T06:52:27.895277",
     "exception": false,
     "start_time": "2023-10-22T06:52:27.888633",
     "status": "completed"
    },
    "tags": []
   },
   "source": [
    "# 1. Import necessary libraries"
   ]
  },
  {
   "cell_type": "code",
   "execution_count": 2,
   "id": "8738e024",
   "metadata": {
    "execution": {
     "iopub.execute_input": "2023-10-22T06:52:27.910592Z",
     "iopub.status.busy": "2023-10-22T06:52:27.910144Z",
     "iopub.status.idle": "2023-10-22T06:52:29.388749Z",
     "shell.execute_reply": "2023-10-22T06:52:29.387557Z"
    },
    "papermill": {
     "duration": 1.489301,
     "end_time": "2023-10-22T06:52:29.391372",
     "exception": false,
     "start_time": "2023-10-22T06:52:27.902071",
     "status": "completed"
    },
    "tags": []
   },
   "outputs": [],
   "source": [
    "import numpy as np \n",
    "import pandas as pd\n",
    "from matplotlib import pyplot as plt\n",
    "import seaborn as sns"
   ]
  },
  {
   "cell_type": "markdown",
   "id": "48bd413f",
   "metadata": {
    "papermill": {
     "duration": 0.006356,
     "end_time": "2023-10-22T06:52:29.404712",
     "exception": false,
     "start_time": "2023-10-22T06:52:29.398356",
     "status": "completed"
    },
    "tags": []
   },
   "source": [
    "# 2. Load the dataset"
   ]
  },
  {
   "cell_type": "code",
   "execution_count": 3,
   "id": "a183c19c",
   "metadata": {
    "execution": {
     "iopub.execute_input": "2023-10-22T06:52:29.420811Z",
     "iopub.status.busy": "2023-10-22T06:52:29.420422Z",
     "iopub.status.idle": "2023-10-22T06:52:29.446606Z",
     "shell.execute_reply": "2023-10-22T06:52:29.445351Z"
    },
    "papermill": {
     "duration": 0.036854,
     "end_time": "2023-10-22T06:52:29.449080",
     "exception": false,
     "start_time": "2023-10-22T06:52:29.412226",
     "status": "completed"
    },
    "tags": []
   },
   "outputs": [],
   "source": [
    "df=pd.read_csv(\"/kaggle/input/breast-cancer/breast-cancer-wisconsin-data_data.csv\")"
   ]
  },
  {
   "cell_type": "markdown",
   "id": "8c4a8527",
   "metadata": {
    "papermill": {
     "duration": 0.006464,
     "end_time": "2023-10-22T06:52:29.462762",
     "exception": false,
     "start_time": "2023-10-22T06:52:29.456298",
     "status": "completed"
    },
    "tags": []
   },
   "source": [
    "# 3. Basic Data Exploration"
   ]
  },
  {
   "cell_type": "code",
   "execution_count": 4,
   "id": "e1c04ff2",
   "metadata": {
    "execution": {
     "iopub.execute_input": "2023-10-22T06:52:29.478273Z",
     "iopub.status.busy": "2023-10-22T06:52:29.477938Z",
     "iopub.status.idle": "2023-10-22T06:52:29.519083Z",
     "shell.execute_reply": "2023-10-22T06:52:29.517916Z"
    },
    "papermill": {
     "duration": 0.051617,
     "end_time": "2023-10-22T06:52:29.521300",
     "exception": false,
     "start_time": "2023-10-22T06:52:29.469683",
     "status": "completed"
    },
    "tags": []
   },
   "outputs": [
    {
     "data": {
      "text/html": [
       "<div>\n",
       "<style scoped>\n",
       "    .dataframe tbody tr th:only-of-type {\n",
       "        vertical-align: middle;\n",
       "    }\n",
       "\n",
       "    .dataframe tbody tr th {\n",
       "        vertical-align: top;\n",
       "    }\n",
       "\n",
       "    .dataframe thead th {\n",
       "        text-align: right;\n",
       "    }\n",
       "</style>\n",
       "<table border=\"1\" class=\"dataframe\">\n",
       "  <thead>\n",
       "    <tr style=\"text-align: right;\">\n",
       "      <th></th>\n",
       "      <th>id</th>\n",
       "      <th>diagnosis</th>\n",
       "      <th>radius_mean</th>\n",
       "      <th>texture_mean</th>\n",
       "      <th>perimeter_mean</th>\n",
       "      <th>area_mean</th>\n",
       "      <th>smoothness_mean</th>\n",
       "      <th>compactness_mean</th>\n",
       "      <th>concavity_mean</th>\n",
       "      <th>concave points_mean</th>\n",
       "      <th>...</th>\n",
       "      <th>texture_worst</th>\n",
       "      <th>perimeter_worst</th>\n",
       "      <th>area_worst</th>\n",
       "      <th>smoothness_worst</th>\n",
       "      <th>compactness_worst</th>\n",
       "      <th>concavity_worst</th>\n",
       "      <th>concave points_worst</th>\n",
       "      <th>symmetry_worst</th>\n",
       "      <th>fractal_dimension_worst</th>\n",
       "      <th>Unnamed: 32</th>\n",
       "    </tr>\n",
       "  </thead>\n",
       "  <tbody>\n",
       "    <tr>\n",
       "      <th>0</th>\n",
       "      <td>842302</td>\n",
       "      <td>M</td>\n",
       "      <td>17.99</td>\n",
       "      <td>10.38</td>\n",
       "      <td>122.80</td>\n",
       "      <td>1001.0</td>\n",
       "      <td>0.11840</td>\n",
       "      <td>0.27760</td>\n",
       "      <td>0.3001</td>\n",
       "      <td>0.14710</td>\n",
       "      <td>...</td>\n",
       "      <td>17.33</td>\n",
       "      <td>184.60</td>\n",
       "      <td>2019.0</td>\n",
       "      <td>0.1622</td>\n",
       "      <td>0.6656</td>\n",
       "      <td>0.7119</td>\n",
       "      <td>0.2654</td>\n",
       "      <td>0.4601</td>\n",
       "      <td>0.11890</td>\n",
       "      <td>NaN</td>\n",
       "    </tr>\n",
       "    <tr>\n",
       "      <th>1</th>\n",
       "      <td>842517</td>\n",
       "      <td>M</td>\n",
       "      <td>20.57</td>\n",
       "      <td>17.77</td>\n",
       "      <td>132.90</td>\n",
       "      <td>1326.0</td>\n",
       "      <td>0.08474</td>\n",
       "      <td>0.07864</td>\n",
       "      <td>0.0869</td>\n",
       "      <td>0.07017</td>\n",
       "      <td>...</td>\n",
       "      <td>23.41</td>\n",
       "      <td>158.80</td>\n",
       "      <td>1956.0</td>\n",
       "      <td>0.1238</td>\n",
       "      <td>0.1866</td>\n",
       "      <td>0.2416</td>\n",
       "      <td>0.1860</td>\n",
       "      <td>0.2750</td>\n",
       "      <td>0.08902</td>\n",
       "      <td>NaN</td>\n",
       "    </tr>\n",
       "    <tr>\n",
       "      <th>2</th>\n",
       "      <td>84300903</td>\n",
       "      <td>M</td>\n",
       "      <td>19.69</td>\n",
       "      <td>21.25</td>\n",
       "      <td>130.00</td>\n",
       "      <td>1203.0</td>\n",
       "      <td>0.10960</td>\n",
       "      <td>0.15990</td>\n",
       "      <td>0.1974</td>\n",
       "      <td>0.12790</td>\n",
       "      <td>...</td>\n",
       "      <td>25.53</td>\n",
       "      <td>152.50</td>\n",
       "      <td>1709.0</td>\n",
       "      <td>0.1444</td>\n",
       "      <td>0.4245</td>\n",
       "      <td>0.4504</td>\n",
       "      <td>0.2430</td>\n",
       "      <td>0.3613</td>\n",
       "      <td>0.08758</td>\n",
       "      <td>NaN</td>\n",
       "    </tr>\n",
       "    <tr>\n",
       "      <th>3</th>\n",
       "      <td>84348301</td>\n",
       "      <td>M</td>\n",
       "      <td>11.42</td>\n",
       "      <td>20.38</td>\n",
       "      <td>77.58</td>\n",
       "      <td>386.1</td>\n",
       "      <td>0.14250</td>\n",
       "      <td>0.28390</td>\n",
       "      <td>0.2414</td>\n",
       "      <td>0.10520</td>\n",
       "      <td>...</td>\n",
       "      <td>26.50</td>\n",
       "      <td>98.87</td>\n",
       "      <td>567.7</td>\n",
       "      <td>0.2098</td>\n",
       "      <td>0.8663</td>\n",
       "      <td>0.6869</td>\n",
       "      <td>0.2575</td>\n",
       "      <td>0.6638</td>\n",
       "      <td>0.17300</td>\n",
       "      <td>NaN</td>\n",
       "    </tr>\n",
       "    <tr>\n",
       "      <th>4</th>\n",
       "      <td>84358402</td>\n",
       "      <td>M</td>\n",
       "      <td>20.29</td>\n",
       "      <td>14.34</td>\n",
       "      <td>135.10</td>\n",
       "      <td>1297.0</td>\n",
       "      <td>0.10030</td>\n",
       "      <td>0.13280</td>\n",
       "      <td>0.1980</td>\n",
       "      <td>0.10430</td>\n",
       "      <td>...</td>\n",
       "      <td>16.67</td>\n",
       "      <td>152.20</td>\n",
       "      <td>1575.0</td>\n",
       "      <td>0.1374</td>\n",
       "      <td>0.2050</td>\n",
       "      <td>0.4000</td>\n",
       "      <td>0.1625</td>\n",
       "      <td>0.2364</td>\n",
       "      <td>0.07678</td>\n",
       "      <td>NaN</td>\n",
       "    </tr>\n",
       "  </tbody>\n",
       "</table>\n",
       "<p>5 rows × 33 columns</p>\n",
       "</div>"
      ],
      "text/plain": [
       "         id diagnosis  radius_mean  texture_mean  perimeter_mean  area_mean  \\\n",
       "0    842302         M        17.99         10.38          122.80     1001.0   \n",
       "1    842517         M        20.57         17.77          132.90     1326.0   \n",
       "2  84300903         M        19.69         21.25          130.00     1203.0   \n",
       "3  84348301         M        11.42         20.38           77.58      386.1   \n",
       "4  84358402         M        20.29         14.34          135.10     1297.0   \n",
       "\n",
       "   smoothness_mean  compactness_mean  concavity_mean  concave points_mean  \\\n",
       "0          0.11840           0.27760          0.3001              0.14710   \n",
       "1          0.08474           0.07864          0.0869              0.07017   \n",
       "2          0.10960           0.15990          0.1974              0.12790   \n",
       "3          0.14250           0.28390          0.2414              0.10520   \n",
       "4          0.10030           0.13280          0.1980              0.10430   \n",
       "\n",
       "   ...  texture_worst  perimeter_worst  area_worst  smoothness_worst  \\\n",
       "0  ...          17.33           184.60      2019.0            0.1622   \n",
       "1  ...          23.41           158.80      1956.0            0.1238   \n",
       "2  ...          25.53           152.50      1709.0            0.1444   \n",
       "3  ...          26.50            98.87       567.7            0.2098   \n",
       "4  ...          16.67           152.20      1575.0            0.1374   \n",
       "\n",
       "   compactness_worst  concavity_worst  concave points_worst  symmetry_worst  \\\n",
       "0             0.6656           0.7119                0.2654          0.4601   \n",
       "1             0.1866           0.2416                0.1860          0.2750   \n",
       "2             0.4245           0.4504                0.2430          0.3613   \n",
       "3             0.8663           0.6869                0.2575          0.6638   \n",
       "4             0.2050           0.4000                0.1625          0.2364   \n",
       "\n",
       "   fractal_dimension_worst  Unnamed: 32  \n",
       "0                  0.11890          NaN  \n",
       "1                  0.08902          NaN  \n",
       "2                  0.08758          NaN  \n",
       "3                  0.17300          NaN  \n",
       "4                  0.07678          NaN  \n",
       "\n",
       "[5 rows x 33 columns]"
      ]
     },
     "execution_count": 4,
     "metadata": {},
     "output_type": "execute_result"
    }
   ],
   "source": [
    "df.head()"
   ]
  },
  {
   "cell_type": "code",
   "execution_count": 5,
   "id": "9d49f280",
   "metadata": {
    "execution": {
     "iopub.execute_input": "2023-10-22T06:52:29.537157Z",
     "iopub.status.busy": "2023-10-22T06:52:29.536812Z",
     "iopub.status.idle": "2023-10-22T06:52:29.543842Z",
     "shell.execute_reply": "2023-10-22T06:52:29.542923Z"
    },
    "papermill": {
     "duration": 0.017159,
     "end_time": "2023-10-22T06:52:29.545653",
     "exception": false,
     "start_time": "2023-10-22T06:52:29.528494",
     "status": "completed"
    },
    "tags": []
   },
   "outputs": [
    {
     "data": {
      "text/plain": [
       "(569, 33)"
      ]
     },
     "execution_count": 5,
     "metadata": {},
     "output_type": "execute_result"
    }
   ],
   "source": [
    "df.shape  # Dataset Shape"
   ]
  },
  {
   "cell_type": "code",
   "execution_count": 6,
   "id": "c2330d98",
   "metadata": {
    "execution": {
     "iopub.execute_input": "2023-10-22T06:52:29.561681Z",
     "iopub.status.busy": "2023-10-22T06:52:29.561304Z",
     "iopub.status.idle": "2023-10-22T06:52:29.588709Z",
     "shell.execute_reply": "2023-10-22T06:52:29.587737Z"
    },
    "papermill": {
     "duration": 0.037608,
     "end_time": "2023-10-22T06:52:29.590509",
     "exception": false,
     "start_time": "2023-10-22T06:52:29.552901",
     "status": "completed"
    },
    "tags": []
   },
   "outputs": [
    {
     "name": "stdout",
     "output_type": "stream",
     "text": [
      "<class 'pandas.core.frame.DataFrame'>\n",
      "RangeIndex: 569 entries, 0 to 568\n",
      "Data columns (total 33 columns):\n",
      " #   Column                   Non-Null Count  Dtype  \n",
      "---  ------                   --------------  -----  \n",
      " 0   id                       569 non-null    int64  \n",
      " 1   diagnosis                569 non-null    object \n",
      " 2   radius_mean              569 non-null    float64\n",
      " 3   texture_mean             569 non-null    float64\n",
      " 4   perimeter_mean           569 non-null    float64\n",
      " 5   area_mean                569 non-null    float64\n",
      " 6   smoothness_mean          569 non-null    float64\n",
      " 7   compactness_mean         569 non-null    float64\n",
      " 8   concavity_mean           569 non-null    float64\n",
      " 9   concave points_mean      569 non-null    float64\n",
      " 10  symmetry_mean            569 non-null    float64\n",
      " 11  fractal_dimension_mean   569 non-null    float64\n",
      " 12  radius_se                569 non-null    float64\n",
      " 13  texture_se               569 non-null    float64\n",
      " 14  perimeter_se             569 non-null    float64\n",
      " 15  area_se                  569 non-null    float64\n",
      " 16  smoothness_se            569 non-null    float64\n",
      " 17  compactness_se           569 non-null    float64\n",
      " 18  concavity_se             569 non-null    float64\n",
      " 19  concave points_se        569 non-null    float64\n",
      " 20  symmetry_se              569 non-null    float64\n",
      " 21  fractal_dimension_se     569 non-null    float64\n",
      " 22  radius_worst             569 non-null    float64\n",
      " 23  texture_worst            569 non-null    float64\n",
      " 24  perimeter_worst          569 non-null    float64\n",
      " 25  area_worst               569 non-null    float64\n",
      " 26  smoothness_worst         569 non-null    float64\n",
      " 27  compactness_worst        569 non-null    float64\n",
      " 28  concavity_worst          569 non-null    float64\n",
      " 29  concave points_worst     569 non-null    float64\n",
      " 30  symmetry_worst           569 non-null    float64\n",
      " 31  fractal_dimension_worst  569 non-null    float64\n",
      " 32  Unnamed: 32              0 non-null      float64\n",
      "dtypes: float64(31), int64(1), object(1)\n",
      "memory usage: 146.8+ KB\n"
     ]
    }
   ],
   "source": [
    "df.info() # Dataset Information"
   ]
  },
  {
   "cell_type": "code",
   "execution_count": 7,
   "id": "a2590f0d",
   "metadata": {
    "execution": {
     "iopub.execute_input": "2023-10-22T06:52:29.606641Z",
     "iopub.status.busy": "2023-10-22T06:52:29.605900Z",
     "iopub.status.idle": "2023-10-22T06:52:29.674806Z",
     "shell.execute_reply": "2023-10-22T06:52:29.673977Z"
    },
    "papermill": {
     "duration": 0.078807,
     "end_time": "2023-10-22T06:52:29.676540",
     "exception": false,
     "start_time": "2023-10-22T06:52:29.597733",
     "status": "completed"
    },
    "tags": []
   },
   "outputs": [
    {
     "data": {
      "text/html": [
       "<div>\n",
       "<style scoped>\n",
       "    .dataframe tbody tr th:only-of-type {\n",
       "        vertical-align: middle;\n",
       "    }\n",
       "\n",
       "    .dataframe tbody tr th {\n",
       "        vertical-align: top;\n",
       "    }\n",
       "\n",
       "    .dataframe thead th {\n",
       "        text-align: right;\n",
       "    }\n",
       "</style>\n",
       "<table border=\"1\" class=\"dataframe\">\n",
       "  <thead>\n",
       "    <tr style=\"text-align: right;\">\n",
       "      <th></th>\n",
       "      <th>id</th>\n",
       "      <th>radius_mean</th>\n",
       "      <th>texture_mean</th>\n",
       "      <th>perimeter_mean</th>\n",
       "      <th>area_mean</th>\n",
       "      <th>smoothness_mean</th>\n",
       "      <th>compactness_mean</th>\n",
       "      <th>concavity_mean</th>\n",
       "      <th>concave points_mean</th>\n",
       "      <th>symmetry_mean</th>\n",
       "      <th>...</th>\n",
       "      <th>texture_worst</th>\n",
       "      <th>perimeter_worst</th>\n",
       "      <th>area_worst</th>\n",
       "      <th>smoothness_worst</th>\n",
       "      <th>compactness_worst</th>\n",
       "      <th>concavity_worst</th>\n",
       "      <th>concave points_worst</th>\n",
       "      <th>symmetry_worst</th>\n",
       "      <th>fractal_dimension_worst</th>\n",
       "      <th>Unnamed: 32</th>\n",
       "    </tr>\n",
       "  </thead>\n",
       "  <tbody>\n",
       "    <tr>\n",
       "      <th>count</th>\n",
       "      <td>5.690000e+02</td>\n",
       "      <td>569.000000</td>\n",
       "      <td>569.000000</td>\n",
       "      <td>569.000000</td>\n",
       "      <td>569.000000</td>\n",
       "      <td>569.000000</td>\n",
       "      <td>569.000000</td>\n",
       "      <td>569.000000</td>\n",
       "      <td>569.000000</td>\n",
       "      <td>569.000000</td>\n",
       "      <td>...</td>\n",
       "      <td>569.000000</td>\n",
       "      <td>569.000000</td>\n",
       "      <td>569.000000</td>\n",
       "      <td>569.000000</td>\n",
       "      <td>569.000000</td>\n",
       "      <td>569.000000</td>\n",
       "      <td>569.000000</td>\n",
       "      <td>569.000000</td>\n",
       "      <td>569.000000</td>\n",
       "      <td>0.0</td>\n",
       "    </tr>\n",
       "    <tr>\n",
       "      <th>mean</th>\n",
       "      <td>3.037183e+07</td>\n",
       "      <td>14.127292</td>\n",
       "      <td>19.289649</td>\n",
       "      <td>91.969033</td>\n",
       "      <td>654.889104</td>\n",
       "      <td>0.096360</td>\n",
       "      <td>0.104341</td>\n",
       "      <td>0.088799</td>\n",
       "      <td>0.048919</td>\n",
       "      <td>0.181162</td>\n",
       "      <td>...</td>\n",
       "      <td>25.677223</td>\n",
       "      <td>107.261213</td>\n",
       "      <td>880.583128</td>\n",
       "      <td>0.132369</td>\n",
       "      <td>0.254265</td>\n",
       "      <td>0.272188</td>\n",
       "      <td>0.114606</td>\n",
       "      <td>0.290076</td>\n",
       "      <td>0.083946</td>\n",
       "      <td>NaN</td>\n",
       "    </tr>\n",
       "    <tr>\n",
       "      <th>std</th>\n",
       "      <td>1.250206e+08</td>\n",
       "      <td>3.524049</td>\n",
       "      <td>4.301036</td>\n",
       "      <td>24.298981</td>\n",
       "      <td>351.914129</td>\n",
       "      <td>0.014064</td>\n",
       "      <td>0.052813</td>\n",
       "      <td>0.079720</td>\n",
       "      <td>0.038803</td>\n",
       "      <td>0.027414</td>\n",
       "      <td>...</td>\n",
       "      <td>6.146258</td>\n",
       "      <td>33.602542</td>\n",
       "      <td>569.356993</td>\n",
       "      <td>0.022832</td>\n",
       "      <td>0.157336</td>\n",
       "      <td>0.208624</td>\n",
       "      <td>0.065732</td>\n",
       "      <td>0.061867</td>\n",
       "      <td>0.018061</td>\n",
       "      <td>NaN</td>\n",
       "    </tr>\n",
       "    <tr>\n",
       "      <th>min</th>\n",
       "      <td>8.670000e+03</td>\n",
       "      <td>6.981000</td>\n",
       "      <td>9.710000</td>\n",
       "      <td>43.790000</td>\n",
       "      <td>143.500000</td>\n",
       "      <td>0.052630</td>\n",
       "      <td>0.019380</td>\n",
       "      <td>0.000000</td>\n",
       "      <td>0.000000</td>\n",
       "      <td>0.106000</td>\n",
       "      <td>...</td>\n",
       "      <td>12.020000</td>\n",
       "      <td>50.410000</td>\n",
       "      <td>185.200000</td>\n",
       "      <td>0.071170</td>\n",
       "      <td>0.027290</td>\n",
       "      <td>0.000000</td>\n",
       "      <td>0.000000</td>\n",
       "      <td>0.156500</td>\n",
       "      <td>0.055040</td>\n",
       "      <td>NaN</td>\n",
       "    </tr>\n",
       "    <tr>\n",
       "      <th>25%</th>\n",
       "      <td>8.692180e+05</td>\n",
       "      <td>11.700000</td>\n",
       "      <td>16.170000</td>\n",
       "      <td>75.170000</td>\n",
       "      <td>420.300000</td>\n",
       "      <td>0.086370</td>\n",
       "      <td>0.064920</td>\n",
       "      <td>0.029560</td>\n",
       "      <td>0.020310</td>\n",
       "      <td>0.161900</td>\n",
       "      <td>...</td>\n",
       "      <td>21.080000</td>\n",
       "      <td>84.110000</td>\n",
       "      <td>515.300000</td>\n",
       "      <td>0.116600</td>\n",
       "      <td>0.147200</td>\n",
       "      <td>0.114500</td>\n",
       "      <td>0.064930</td>\n",
       "      <td>0.250400</td>\n",
       "      <td>0.071460</td>\n",
       "      <td>NaN</td>\n",
       "    </tr>\n",
       "    <tr>\n",
       "      <th>50%</th>\n",
       "      <td>9.060240e+05</td>\n",
       "      <td>13.370000</td>\n",
       "      <td>18.840000</td>\n",
       "      <td>86.240000</td>\n",
       "      <td>551.100000</td>\n",
       "      <td>0.095870</td>\n",
       "      <td>0.092630</td>\n",
       "      <td>0.061540</td>\n",
       "      <td>0.033500</td>\n",
       "      <td>0.179200</td>\n",
       "      <td>...</td>\n",
       "      <td>25.410000</td>\n",
       "      <td>97.660000</td>\n",
       "      <td>686.500000</td>\n",
       "      <td>0.131300</td>\n",
       "      <td>0.211900</td>\n",
       "      <td>0.226700</td>\n",
       "      <td>0.099930</td>\n",
       "      <td>0.282200</td>\n",
       "      <td>0.080040</td>\n",
       "      <td>NaN</td>\n",
       "    </tr>\n",
       "    <tr>\n",
       "      <th>75%</th>\n",
       "      <td>8.813129e+06</td>\n",
       "      <td>15.780000</td>\n",
       "      <td>21.800000</td>\n",
       "      <td>104.100000</td>\n",
       "      <td>782.700000</td>\n",
       "      <td>0.105300</td>\n",
       "      <td>0.130400</td>\n",
       "      <td>0.130700</td>\n",
       "      <td>0.074000</td>\n",
       "      <td>0.195700</td>\n",
       "      <td>...</td>\n",
       "      <td>29.720000</td>\n",
       "      <td>125.400000</td>\n",
       "      <td>1084.000000</td>\n",
       "      <td>0.146000</td>\n",
       "      <td>0.339100</td>\n",
       "      <td>0.382900</td>\n",
       "      <td>0.161400</td>\n",
       "      <td>0.317900</td>\n",
       "      <td>0.092080</td>\n",
       "      <td>NaN</td>\n",
       "    </tr>\n",
       "    <tr>\n",
       "      <th>max</th>\n",
       "      <td>9.113205e+08</td>\n",
       "      <td>28.110000</td>\n",
       "      <td>39.280000</td>\n",
       "      <td>188.500000</td>\n",
       "      <td>2501.000000</td>\n",
       "      <td>0.163400</td>\n",
       "      <td>0.345400</td>\n",
       "      <td>0.426800</td>\n",
       "      <td>0.201200</td>\n",
       "      <td>0.304000</td>\n",
       "      <td>...</td>\n",
       "      <td>49.540000</td>\n",
       "      <td>251.200000</td>\n",
       "      <td>4254.000000</td>\n",
       "      <td>0.222600</td>\n",
       "      <td>1.058000</td>\n",
       "      <td>1.252000</td>\n",
       "      <td>0.291000</td>\n",
       "      <td>0.663800</td>\n",
       "      <td>0.207500</td>\n",
       "      <td>NaN</td>\n",
       "    </tr>\n",
       "  </tbody>\n",
       "</table>\n",
       "<p>8 rows × 32 columns</p>\n",
       "</div>"
      ],
      "text/plain": [
       "                 id  radius_mean  texture_mean  perimeter_mean    area_mean  \\\n",
       "count  5.690000e+02   569.000000    569.000000      569.000000   569.000000   \n",
       "mean   3.037183e+07    14.127292     19.289649       91.969033   654.889104   \n",
       "std    1.250206e+08     3.524049      4.301036       24.298981   351.914129   \n",
       "min    8.670000e+03     6.981000      9.710000       43.790000   143.500000   \n",
       "25%    8.692180e+05    11.700000     16.170000       75.170000   420.300000   \n",
       "50%    9.060240e+05    13.370000     18.840000       86.240000   551.100000   \n",
       "75%    8.813129e+06    15.780000     21.800000      104.100000   782.700000   \n",
       "max    9.113205e+08    28.110000     39.280000      188.500000  2501.000000   \n",
       "\n",
       "       smoothness_mean  compactness_mean  concavity_mean  concave points_mean  \\\n",
       "count       569.000000        569.000000      569.000000           569.000000   \n",
       "mean          0.096360          0.104341        0.088799             0.048919   \n",
       "std           0.014064          0.052813        0.079720             0.038803   \n",
       "min           0.052630          0.019380        0.000000             0.000000   \n",
       "25%           0.086370          0.064920        0.029560             0.020310   \n",
       "50%           0.095870          0.092630        0.061540             0.033500   \n",
       "75%           0.105300          0.130400        0.130700             0.074000   \n",
       "max           0.163400          0.345400        0.426800             0.201200   \n",
       "\n",
       "       symmetry_mean  ...  texture_worst  perimeter_worst   area_worst  \\\n",
       "count     569.000000  ...     569.000000       569.000000   569.000000   \n",
       "mean        0.181162  ...      25.677223       107.261213   880.583128   \n",
       "std         0.027414  ...       6.146258        33.602542   569.356993   \n",
       "min         0.106000  ...      12.020000        50.410000   185.200000   \n",
       "25%         0.161900  ...      21.080000        84.110000   515.300000   \n",
       "50%         0.179200  ...      25.410000        97.660000   686.500000   \n",
       "75%         0.195700  ...      29.720000       125.400000  1084.000000   \n",
       "max         0.304000  ...      49.540000       251.200000  4254.000000   \n",
       "\n",
       "       smoothness_worst  compactness_worst  concavity_worst  \\\n",
       "count        569.000000         569.000000       569.000000   \n",
       "mean           0.132369           0.254265         0.272188   \n",
       "std            0.022832           0.157336         0.208624   \n",
       "min            0.071170           0.027290         0.000000   \n",
       "25%            0.116600           0.147200         0.114500   \n",
       "50%            0.131300           0.211900         0.226700   \n",
       "75%            0.146000           0.339100         0.382900   \n",
       "max            0.222600           1.058000         1.252000   \n",
       "\n",
       "       concave points_worst  symmetry_worst  fractal_dimension_worst  \\\n",
       "count            569.000000      569.000000               569.000000   \n",
       "mean               0.114606        0.290076                 0.083946   \n",
       "std                0.065732        0.061867                 0.018061   \n",
       "min                0.000000        0.156500                 0.055040   \n",
       "25%                0.064930        0.250400                 0.071460   \n",
       "50%                0.099930        0.282200                 0.080040   \n",
       "75%                0.161400        0.317900                 0.092080   \n",
       "max                0.291000        0.663800                 0.207500   \n",
       "\n",
       "       Unnamed: 32  \n",
       "count          0.0  \n",
       "mean           NaN  \n",
       "std            NaN  \n",
       "min            NaN  \n",
       "25%            NaN  \n",
       "50%            NaN  \n",
       "75%            NaN  \n",
       "max            NaN  \n",
       "\n",
       "[8 rows x 32 columns]"
      ]
     },
     "execution_count": 7,
     "metadata": {},
     "output_type": "execute_result"
    }
   ],
   "source": [
    "df.describe()   # Statistics"
   ]
  },
  {
   "cell_type": "markdown",
   "id": "14d3372a",
   "metadata": {
    "papermill": {
     "duration": 0.007135,
     "end_time": "2023-10-22T06:52:29.691180",
     "exception": false,
     "start_time": "2023-10-22T06:52:29.684045",
     "status": "completed"
    },
    "tags": []
   },
   "source": [
    "# 4. Data Visualization"
   ]
  },
  {
   "cell_type": "code",
   "execution_count": 8,
   "id": "f48ce8c0",
   "metadata": {
    "execution": {
     "iopub.execute_input": "2023-10-22T06:52:29.707816Z",
     "iopub.status.busy": "2023-10-22T06:52:29.707332Z",
     "iopub.status.idle": "2023-10-22T06:52:29.713896Z",
     "shell.execute_reply": "2023-10-22T06:52:29.713043Z"
    },
    "papermill": {
     "duration": 0.017287,
     "end_time": "2023-10-22T06:52:29.715767",
     "exception": false,
     "start_time": "2023-10-22T06:52:29.698480",
     "status": "completed"
    },
    "tags": []
   },
   "outputs": [
    {
     "data": {
      "text/plain": [
       "diagnosis\n",
       "B    357\n",
       "M    212\n",
       "Name: count, dtype: int64"
      ]
     },
     "execution_count": 8,
     "metadata": {},
     "output_type": "execute_result"
    }
   ],
   "source": [
    "df['diagnosis'].value_counts()"
   ]
  },
  {
   "cell_type": "markdown",
   "id": "09b849b8",
   "metadata": {
    "papermill": {
     "duration": 0.007482,
     "end_time": "2023-10-22T06:52:29.731013",
     "exception": false,
     "start_time": "2023-10-22T06:52:29.723531",
     "status": "completed"
    },
    "tags": []
   },
   "source": [
    "**Pie Chart**"
   ]
  },
  {
   "cell_type": "code",
   "execution_count": 9,
   "id": "4906a2de",
   "metadata": {
    "execution": {
     "iopub.execute_input": "2023-10-22T06:52:29.747965Z",
     "iopub.status.busy": "2023-10-22T06:52:29.747253Z",
     "iopub.status.idle": "2023-10-22T06:52:29.890638Z",
     "shell.execute_reply": "2023-10-22T06:52:29.889368Z"
    },
    "papermill": {
     "duration": 0.154042,
     "end_time": "2023-10-22T06:52:29.892604",
     "exception": false,
     "start_time": "2023-10-22T06:52:29.738562",
     "status": "completed"
    },
    "tags": []
   },
   "outputs": [
    {
     "data": {
      "image/png": "[encoded data removed]",
      "text/plain": [
       "<Figure size 640x480 with 1 Axes>"
      ]
     },
     "metadata": {},
     "output_type": "display_data"
    }
   ],
   "source": [
    "\n",
    "# Data for the pie chart\n",
    "\n",
    "labels =['B','M']\n",
    "sizes = df['diagnosis'].value_counts() \n",
    "colors = ['blue', 'yellow']\n",
    "explode = (0, 0) \n",
    "\n",
    "\n",
    "# Create a pie chart\n",
    "\n",
    "plt.pie(sizes, labels=labels, colors=colors, explode=explode, autopct='%1.1f%%', startangle=90)\n",
    "\n",
    "\n",
    "plt.axis('equal') \n",
    "plt.title('Diagnosis Distribution')\n",
    "\n",
    "\n",
    "# Display the pie chart\n",
    "plt.show()"
   ]
  },
  {
   "cell_type": "markdown",
   "id": "362a213c",
   "metadata": {
    "papermill": {
     "duration": 0.009786,
     "end_time": "2023-10-22T06:52:29.913072",
     "exception": false,
     "start_time": "2023-10-22T06:52:29.903286",
     "status": "completed"
    },
    "tags": []
   },
   "source": [
    "# 5. Data Preprocessing"
   ]
  },
  {
   "cell_type": "code",
   "execution_count": 10,
   "id": "4383adaa",
   "metadata": {
    "execution": {
     "iopub.execute_input": "2023-10-22T06:52:29.934823Z",
     "iopub.status.busy": "2023-10-22T06:52:29.934402Z",
     "iopub.status.idle": "2023-10-22T06:52:29.942203Z",
     "shell.execute_reply": "2023-10-22T06:52:29.941545Z"
    },
    "papermill": {
     "duration": 0.020883,
     "end_time": "2023-10-22T06:52:29.943973",
     "exception": false,
     "start_time": "2023-10-22T06:52:29.923090",
     "status": "completed"
    },
    "tags": []
   },
   "outputs": [
    {
     "data": {
      "text/plain": [
       "id                           0\n",
       "diagnosis                    0\n",
       "radius_mean                  0\n",
       "texture_mean                 0\n",
       "perimeter_mean               0\n",
       "area_mean                    0\n",
       "smoothness_mean              0\n",
       "compactness_mean             0\n",
       "concavity_mean               0\n",
       "concave points_mean          0\n",
       "symmetry_mean                0\n",
       "fractal_dimension_mean       0\n",
       "radius_se                    0\n",
       "texture_se                   0\n",
       "perimeter_se                 0\n",
       "area_se                      0\n",
       "smoothness_se                0\n",
       "compactness_se               0\n",
       "concavity_se                 0\n",
       "concave points_se            0\n",
       "symmetry_se                  0\n",
       "fractal_dimension_se         0\n",
       "radius_worst                 0\n",
       "texture_worst                0\n",
       "perimeter_worst              0\n",
       "area_worst                   0\n",
       "smoothness_worst             0\n",
       "compactness_worst            0\n",
       "concavity_worst              0\n",
       "concave points_worst         0\n",
       "symmetry_worst               0\n",
       "fractal_dimension_worst      0\n",
       "Unnamed: 32                569\n",
       "dtype: int64"
      ]
     },
     "execution_count": 10,
     "metadata": {},
     "output_type": "execute_result"
    }
   ],
   "source": [
    "df.isnull().sum()   # Missing Values"
   ]
  },
  {
   "cell_type": "markdown",
   "id": "b5c05a47",
   "metadata": {
    "papermill": {
     "duration": 0.009143,
     "end_time": "2023-10-22T06:52:29.963437",
     "exception": false,
     "start_time": "2023-10-22T06:52:29.954294",
     "status": "completed"
    },
    "tags": []
   },
   "source": [
    "**Removing irrelevant features**"
   ]
  },
  {
   "cell_type": "code",
   "execution_count": 11,
   "id": "4a9fc351",
   "metadata": {
    "execution": {
     "iopub.execute_input": "2023-10-22T06:52:29.981191Z",
     "iopub.status.busy": "2023-10-22T06:52:29.980581Z",
     "iopub.status.idle": "2023-10-22T06:52:29.986354Z",
     "shell.execute_reply": "2023-10-22T06:52:29.985746Z"
    },
    "papermill": {
     "duration": 0.016459,
     "end_time": "2023-10-22T06:52:29.987918",
     "exception": false,
     "start_time": "2023-10-22T06:52:29.971459",
     "status": "completed"
    },
    "tags": []
   },
   "outputs": [],
   "source": [
    "df=df.drop(['id','Unnamed: 32'], axis=1) "
   ]
  },
  {
   "cell_type": "markdown",
   "id": "b1dd03f6",
   "metadata": {
    "papermill": {
     "duration": 0.007898,
     "end_time": "2023-10-22T06:52:30.004246",
     "exception": false,
     "start_time": "2023-10-22T06:52:29.996348",
     "status": "completed"
    },
    "tags": []
   },
   "source": [
    "**Encoding categorical variables**"
   ]
  },
  {
   "cell_type": "code",
   "execution_count": 12,
   "id": "a8b4b11c",
   "metadata": {
    "execution": {
     "iopub.execute_input": "2023-10-22T06:52:30.022052Z",
     "iopub.status.busy": "2023-10-22T06:52:30.021453Z",
     "iopub.status.idle": "2023-10-22T06:52:30.027161Z",
     "shell.execute_reply": "2023-10-22T06:52:30.026411Z"
    },
    "papermill": {
     "duration": 0.016553,
     "end_time": "2023-10-22T06:52:30.028749",
     "exception": false,
     "start_time": "2023-10-22T06:52:30.012196",
     "status": "completed"
    },
    "tags": []
   },
   "outputs": [],
   "source": [
    "# Map \"M\" and \"B\" to 1 and 0 \n",
    "\n",
    "df['diagnosis']= df['diagnosis']  .map({'M': 1, 'B': 0})"
   ]
  },
  {
   "cell_type": "markdown",
   "id": "f252671e",
   "metadata": {
    "papermill": {
     "duration": 0.007573,
     "end_time": "2023-10-22T06:52:30.044290",
     "exception": false,
     "start_time": "2023-10-22T06:52:30.036717",
     "status": "completed"
    },
    "tags": []
   },
   "source": [
    "**Define features and the target variable**"
   ]
  },
  {
   "cell_type": "code",
   "execution_count": 13,
   "id": "b5f98f2d",
   "metadata": {
    "execution": {
     "iopub.execute_input": "2023-10-22T06:52:30.061623Z",
     "iopub.status.busy": "2023-10-22T06:52:30.061271Z",
     "iopub.status.idle": "2023-10-22T06:52:30.066276Z",
     "shell.execute_reply": "2023-10-22T06:52:30.065430Z"
    },
    "papermill": {
     "duration": 0.016135,
     "end_time": "2023-10-22T06:52:30.068259",
     "exception": false,
     "start_time": "2023-10-22T06:52:30.052124",
     "status": "completed"
    },
    "tags": []
   },
   "outputs": [],
   "source": [
    "\n",
    "X = df.drop(['diagnosis'], axis=1)  \n",
    "y = df['diagnosis']  "
   ]
  },
  {
   "cell_type": "markdown",
   "id": "1c71c394",
   "metadata": {
    "papermill": {
     "duration": 0.007896,
     "end_time": "2023-10-22T06:52:30.084269",
     "exception": false,
     "start_time": "2023-10-22T06:52:30.076373",
     "status": "completed"
    },
    "tags": []
   },
   "source": [
    "# 6. Data Splitting"
   ]
  },
  {
   "cell_type": "code",
   "execution_count": 14,
   "id": "44a233ce",
   "metadata": {
    "execution": {
     "iopub.execute_input": "2023-10-22T06:52:30.101451Z",
     "iopub.status.busy": "2023-10-22T06:52:30.101113Z",
     "iopub.status.idle": "2023-10-22T06:52:30.405711Z",
     "shell.execute_reply": "2023-10-22T06:52:30.404271Z"
    },
    "papermill": {
     "duration": 0.316168,
     "end_time": "2023-10-22T06:52:30.408105",
     "exception": false,
     "start_time": "2023-10-22T06:52:30.091937",
     "status": "completed"
    },
    "tags": []
   },
   "outputs": [],
   "source": [
    "from sklearn.model_selection import train_test_split\n"
   ]
  },
  {
   "cell_type": "code",
   "execution_count": 15,
   "id": "085d8b48",
   "metadata": {
    "execution": {
     "iopub.execute_input": "2023-10-22T06:52:30.426203Z",
     "iopub.status.busy": "2023-10-22T06:52:30.425818Z",
     "iopub.status.idle": "2023-10-22T06:52:30.432591Z",
     "shell.execute_reply": "2023-10-22T06:52:30.431582Z"
    },
    "papermill": {
     "duration": 0.018473,
     "end_time": "2023-10-22T06:52:30.434813",
     "exception": false,
     "start_time": "2023-10-22T06:52:30.416340",
     "status": "completed"
    },
    "tags": []
   },
   "outputs": [],
   "source": [
    "\n",
    "# Split the data into training and testing sets\n",
    "\n",
    "X_train, X_test, y_train, y_test = train_test_split(X, y, test_size=0.2, random_state=45)"
   ]
  },
  {
   "cell_type": "markdown",
   "id": "3a19b7cc",
   "metadata": {
    "papermill": {
     "duration": 0.062759,
     "end_time": "2023-10-22T06:52:30.505967",
     "exception": false,
     "start_time": "2023-10-22T06:52:30.443208",
     "status": "completed"
    },
    "tags": []
   },
   "source": [
    "# 7. Model Building"
   ]
  },
  {
   "cell_type": "markdown",
   "id": "99440569",
   "metadata": {
    "papermill": {
     "duration": 0.008282,
     "end_time": "2023-10-22T06:52:30.522598",
     "exception": false,
     "start_time": "2023-10-22T06:52:30.514316",
     "status": "completed"
    },
    "tags": []
   },
   "source": [
    "**Model Selection**"
   ]
  },
  {
   "cell_type": "code",
   "execution_count": 16,
   "id": "7c8d9ec1",
   "metadata": {
    "execution": {
     "iopub.execute_input": "2023-10-22T06:52:30.541105Z",
     "iopub.status.busy": "2023-10-22T06:52:30.540768Z",
     "iopub.status.idle": "2023-10-22T06:52:30.960687Z",
     "shell.execute_reply": "2023-10-22T06:52:30.959602Z"
    },
    "papermill": {
     "duration": 0.431784,
     "end_time": "2023-10-22T06:52:30.962886",
     "exception": false,
     "start_time": "2023-10-22T06:52:30.531102",
     "status": "completed"
    },
    "tags": []
   },
   "outputs": [],
   "source": [
    "from sklearn.ensemble import RandomForestClassifier\n",
    "\n",
    "model = RandomForestClassifier(n_estimators=100, random_state=45)"
   ]
  },
  {
   "cell_type": "markdown",
   "id": "752f5435",
   "metadata": {
    "papermill": {
     "duration": 0.007547,
     "end_time": "2023-10-22T06:52:30.978644",
     "exception": false,
     "start_time": "2023-10-22T06:52:30.971097",
     "status": "completed"
    },
    "tags": []
   },
   "source": [
    "**Model Training**"
   ]
  },
  {
   "cell_type": "code",
   "execution_count": 17,
   "id": "8be29841",
   "metadata": {
    "execution": {
     "iopub.execute_input": "2023-10-22T06:52:30.996372Z",
     "iopub.status.busy": "2023-10-22T06:52:30.995765Z",
     "iopub.status.idle": "2023-10-22T06:52:31.191352Z",
     "shell.execute_reply": "2023-10-22T06:52:31.190340Z"
    },
    "papermill": {
     "duration": 0.207432,
     "end_time": "2023-10-22T06:52:31.193873",
     "exception": false,
     "start_time": "2023-10-22T06:52:30.986441",
     "status": "completed"
    },
    "tags": []
   },
   "outputs": [
    {
     "data": {
      "text/html": [
       "<style>#sk-container-id-1 {color: black;background-color: white;}#sk-container-id-1 pre{padding: 0;}#sk-container-id-1 div.sk-toggleable {background-color: white;}#sk-container-id-1 label.sk-toggleable__label {cursor: pointer;display: block;width: 100%;margin-bottom: 0;padding: 0.3em;box-sizing: border-box;text-align: center;}#sk-container-id-1 label.sk-toggleable__label-arrow:before {content: \"▸\";float: left;margin-right: 0.25em;color: #696969;}#sk-container-id-1 label.sk-toggleable__label-arrow:hover:before {color: black;}#sk-container-id-1 div.sk-estimator:hover label.sk-toggleable__label-arrow:before {color: black;}#sk-container-id-1 div.sk-toggleable__content {max-height: 0;max-width: 0;overflow: hidden;text-align: left;background-color: #f0f8ff;}#sk-container-id-1 div.sk-toggleable__content pre {margin: 0.2em;color: black;border-radius: 0.25em;background-color: #f0f8ff;}#sk-container-id-1 input.sk-toggleable__control:checked~div.sk-toggleable__content {max-height: 200px;max-width: 100%;overflow: auto;}#sk-container-id-1 input.sk-toggleable__control:checked~label.sk-toggleable__label-arrow:before {content: \"▾\";}#sk-container-id-1 div.sk-estimator input.sk-toggleable__control:checked~label.sk-toggleable__label {background-color: #d4ebff;}#sk-container-id-1 div.sk-label input.sk-toggleable__control:checked~label.sk-toggleable__label {background-color: #d4ebff;}#sk-container-id-1 input.sk-hidden--visually {border: 0;clip: rect(1px 1px 1px 1px);clip: rect(1px, 1px, 1px, 1px);height: 1px;margin: -1px;overflow: hidden;padding: 0;position: absolute;width: 1px;}#sk-container-id-1 div.sk-estimator {font-family: monospace;background-color: #f0f8ff;border: 1px dotted black;border-radius: 0.25em;box-sizing: border-box;margin-bottom: 0.5em;}#sk-container-id-1 div.sk-estimator:hover {background-color: #d4ebff;}#sk-container-id-1 div.sk-parallel-item::after {content: \"\";width: 100%;border-bottom: 1px solid gray;flex-grow: 1;}#sk-container-id-1 div.sk-label:hover label.sk-toggleable__label {background-color: #d4ebff;}#sk-container-id-1 div.sk-serial::before {content: \"\";position: absolute;border-left: 1px solid gray;box-sizing: border-box;top: 0;bottom: 0;left: 50%;z-index: 0;}#sk-container-id-1 div.sk-serial {display: flex;flex-direction: column;align-items: center;background-color: white;padding-right: 0.2em;padding-left: 0.2em;position: relative;}#sk-container-id-1 div.sk-item {position: relative;z-index: 1;}#sk-container-id-1 div.sk-parallel {display: flex;align-items: stretch;justify-content: center;background-color: white;position: relative;}#sk-container-id-1 div.sk-item::before, #sk-container-id-1 div.sk-parallel-item::before {content: \"\";position: absolute;border-left: 1px solid gray;box-sizing: border-box;top: 0;bottom: 0;left: 50%;z-index: -1;}#sk-container-id-1 div.sk-parallel-item {display: flex;flex-direction: column;z-index: 1;position: relative;background-color: white;}#sk-container-id-1 div.sk-parallel-item:first-child::after {align-self: flex-end;width: 50%;}#sk-container-id-1 div.sk-parallel-item:last-child::after {align-self: flex-start;width: 50%;}#sk-container-id-1 div.sk-parallel-item:only-child::after {width: 0;}#sk-container-id-1 div.sk-dashed-wrapped {border: 1px dashed gray;margin: 0 0.4em 0.5em 0.4em;box-sizing: border-box;padding-bottom: 0.4em;background-color: white;}#sk-container-id-1 div.sk-label label {font-family: monospace;font-weight: bold;display: inline-block;line-height: 1.2em;}#sk-container-id-1 div.sk-label-container {text-align: center;}#sk-container-id-1 div.sk-container {/* jupyter's `normalize.less` sets `[hidden] { display: none; }` but bootstrap.min.css set `[hidden] { display: none !important; }` so we also need the `!important` here to be able to override the default hidden behavior on the sphinx rendered scikit-learn.org. See: https://github.com/scikit-learn/scikit-learn/issues/21755 */display: inline-block !important;position: relative;}#sk-container-id-1 div.sk-text-repr-fallback {display: none;}</style><div id=\"sk-container-id-1\" class=\"sk-top-container\"><div class=\"sk-text-repr-fallback\"><pre>RandomForestClassifier(random_state=45)</pre><b>In a Jupyter environment, please rerun this cell to show the HTML representation or trust the notebook. <br />On GitHub, the HTML representation is unable to render, please try loading this page with nbviewer.org.</b></div><div class=\"sk-container\" hidden><div class=\"sk-item\"><div class=\"sk-estimator sk-toggleable\"><input class=\"sk-toggleable__control sk-hidden--visually\" id=\"sk-estimator-id-1\" type=\"checkbox\" checked><label for=\"sk-estimator-id-1\" class=\"sk-toggleable__label sk-toggleable__label-arrow\">RandomForestClassifier</label><div class=\"sk-toggleable__content\"><pre>RandomForestClassifier(random_state=45)</pre></div></div></div></div></div>"
      ],
      "text/plain": [
       "RandomForestClassifier(random_state=45)"
      ]
     },
     "execution_count": 17,
     "metadata": {},
     "output_type": "execute_result"
    }
   ],
   "source": [
    "model.fit(X_train, y_train)"
   ]
  },
  {
   "cell_type": "code",
   "execution_count": 18,
   "id": "6df42ac2",
   "metadata": {
    "execution": {
     "iopub.execute_input": "2023-10-22T06:52:31.213452Z",
     "iopub.status.busy": "2023-10-22T06:52:31.213064Z",
     "iopub.status.idle": "2023-10-22T06:52:31.226989Z",
     "shell.execute_reply": "2023-10-22T06:52:31.225981Z"
    },
    "papermill": {
     "duration": 0.026295,
     "end_time": "2023-10-22T06:52:31.229466",
     "exception": false,
     "start_time": "2023-10-22T06:52:31.203171",
     "status": "completed"
    },
    "tags": []
   },
   "outputs": [],
   "source": [
    "# Make predictions on the test set\n",
    "\n",
    "y_pred = model.predict(X_test)"
   ]
  },
  {
   "cell_type": "markdown",
   "id": "d5d4f144",
   "metadata": {
    "papermill": {
     "duration": 0.00805,
     "end_time": "2023-10-22T06:52:31.246179",
     "exception": false,
     "start_time": "2023-10-22T06:52:31.238129",
     "status": "completed"
    },
    "tags": []
   },
   "source": [
    "# 8. Evaluation"
   ]
  },
  {
   "cell_type": "code",
   "execution_count": 19,
   "id": "95cdd1ac",
   "metadata": {
    "execution": {
     "iopub.execute_input": "2023-10-22T06:52:31.264040Z",
     "iopub.status.busy": "2023-10-22T06:52:31.263703Z",
     "iopub.status.idle": "2023-10-22T06:52:31.269573Z",
     "shell.execute_reply": "2023-10-22T06:52:31.268125Z"
    },
    "papermill": {
     "duration": 0.01723,
     "end_time": "2023-10-22T06:52:31.271554",
     "exception": false,
     "start_time": "2023-10-22T06:52:31.254324",
     "status": "completed"
    },
    "tags": []
   },
   "outputs": [],
   "source": [
    "from sklearn.metrics import classification_report, accuracy_score"
   ]
  },
  {
   "cell_type": "code",
   "execution_count": 20,
   "id": "63655c30",
   "metadata": {
    "execution": {
     "iopub.execute_input": "2023-10-22T06:52:31.290763Z",
     "iopub.status.busy": "2023-10-22T06:52:31.290394Z",
     "iopub.status.idle": "2023-10-22T06:52:31.298074Z",
     "shell.execute_reply": "2023-10-22T06:52:31.297002Z"
    },
    "papermill": {
     "duration": 0.019432,
     "end_time": "2023-10-22T06:52:31.299872",
     "exception": false,
     "start_time": "2023-10-22T06:52:31.280440",
     "status": "completed"
    },
    "tags": []
   },
   "outputs": [
    {
     "name": "stdout",
     "output_type": "stream",
     "text": [
      "Accuracy: 96.49%\n"
     ]
    }
   ],
   "source": [
    "# Evaluate the model\n",
    "\n",
    "accuracy = accuracy_score(y_test, y_pred)\n",
    "print(f\"Accuracy: {accuracy * 100:.2f}%\")"
   ]
  },
  {
   "cell_type": "code",
   "execution_count": 21,
   "id": "7681d71e",
   "metadata": {
    "execution": {
     "iopub.execute_input": "2023-10-22T06:52:31.318982Z",
     "iopub.status.busy": "2023-10-22T06:52:31.318617Z",
     "iopub.status.idle": "2023-10-22T06:52:31.332506Z",
     "shell.execute_reply": "2023-10-22T06:52:31.331487Z"
    },
    "papermill": {
     "duration": 0.025816,
     "end_time": "2023-10-22T06:52:31.334572",
     "exception": false,
     "start_time": "2023-10-22T06:52:31.308756",
     "status": "completed"
    },
    "tags": []
   },
   "outputs": [
    {
     "name": "stdout",
     "output_type": "stream",
     "text": [
      "              precision    recall  f1-score   support\n",
      "\n",
      "           0       0.96      0.99      0.97        72\n",
      "           1       0.97      0.93      0.95        42\n",
      "\n",
      "    accuracy                           0.96       114\n",
      "   macro avg       0.97      0.96      0.96       114\n",
      "weighted avg       0.97      0.96      0.96       114\n",
      "\n"
     ]
    }
   ],
   "source": [
    "# classification report \n",
    "\n",
    "print(classification_report(y_test, y_pred))"
   ]
  },
  {
   "cell_type": "markdown",
   "id": "1ac58fd6",
   "metadata": {
    "papermill": {
     "duration": 0.008565,
     "end_time": "2023-10-22T06:52:31.352838",
     "exception": false,
     "start_time": "2023-10-22T06:52:31.344273",
     "status": "completed"
    },
    "tags": []
   },
   "source": [
    "# 9.  Confusion Matrix"
   ]
  },
  {
   "cell_type": "code",
   "execution_count": 22,
   "id": "2938fe7c",
   "metadata": {
    "execution": {
     "iopub.execute_input": "2023-10-22T06:52:31.371202Z",
     "iopub.status.busy": "2023-10-22T06:52:31.370845Z",
     "iopub.status.idle": "2023-10-22T06:52:31.376972Z",
     "shell.execute_reply": "2023-10-22T06:52:31.375178Z"
    },
    "papermill": {
     "duration": 0.018528,
     "end_time": "2023-10-22T06:52:31.379645",
     "exception": false,
     "start_time": "2023-10-22T06:52:31.361117",
     "status": "completed"
    },
    "tags": []
   },
   "outputs": [],
   "source": [
    "from sklearn.metrics import confusion_matrix"
   ]
  },
  {
   "cell_type": "code",
   "execution_count": 23,
   "id": "97d3ecb5",
   "metadata": {
    "execution": {
     "iopub.execute_input": "2023-10-22T06:52:31.398882Z",
     "iopub.status.busy": "2023-10-22T06:52:31.398517Z",
     "iopub.status.idle": "2023-10-22T06:52:31.637865Z",
     "shell.execute_reply": "2023-10-22T06:52:31.636116Z"
    },
    "papermill": {
     "duration": 0.251363,
     "end_time": "2023-10-22T06:52:31.639833",
     "exception": false,
     "start_time": "2023-10-22T06:52:31.388470",
     "status": "completed"
    },
    "tags": []
   },
   "outputs": [
    {
     "data": {
      "image/png": "[encoded data removed]",
      "text/plain": [
       "<Figure size 1000x600 with 2 Axes>"
      ]
     },
     "metadata": {},
     "output_type": "display_data"
    }
   ],
   "source": [
    "cm = confusion_matrix(y_test, y_pred)\n",
    "\n",
    "plt.figure(figsize=(10, 6))\n",
    "\n",
    "sns.heatmap(\n",
    "    cm, annot=True, fmt='d', cmap='magma', linewidths=0.4, square=True, cbar=True,\n",
    "    xticklabels=[\"B\", \"M\"],\n",
    "    yticklabels=[\"B\", \"M\"]\n",
    ")\n",
    "\n",
    "plt.xlabel('Predicted', fontsize=14, fontweight='bold')\n",
    "plt.ylabel('Actual', fontsize=14, fontweight='bold')\n",
    "plt.title('Confusion Matrix', fontsize=16, fontweight='bold')\n",
    "plt.yticks(rotation=360)\n",
    "\n",
    "plt.show()"
   ]
  }
 ],
 "metadata": {
  "kernelspec": {
   "display_name": "Python 3",
   "language": "python",
   "name": "python3"
  },
  "language_info": {
   "codemirror_mode": {
    "name": "ipython",
    "version": 3
   },
   "file_extension": ".py",
   "mimetype": "text/x-python",
   "name": "python",
   "nbconvert_exporter": "python",
   "pygments_lexer": "ipython3",
   "version": "3.10.12"
  },
  "papermill": {
   "default_parameters": {},
   "duration": 7.556343,
   "end_time": "2023-10-22T06:52:32.269814",
   "environment_variables": {},
   "exception": null,
   "input_path": "__notebook__.ipynb",
   "output_path": "__notebook__.ipynb",
   "parameters": {},
   "start_time": "2023-10-22T06:52:24.713471",
   "version": "2.4.0"
  }
 },
 "nbformat": 4,
 "nbformat_minor": 5
}
